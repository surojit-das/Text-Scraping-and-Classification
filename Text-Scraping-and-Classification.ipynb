{
 "cells": [
  {
   "cell_type": "markdown",
   "metadata": {},
   "source": [
    "# COMP41680 Assignment 2: Text Scraping and Classification"
   ]
  },
  {
   "cell_type": "markdown",
   "metadata": {},
   "source": [
    "The objective of this assignment is to scrape a corpus of news articles from a set of\n",
    "web pages, pre-process the corpus, and evaluate the performance of automated\n",
    "classification of these articles in a supervised learning context."
   ]
  },
  {
   "cell_type": "markdown",
   "metadata": {},
   "source": [
    "<b><span style=\"color:blue\">Name - Surojit Das<br>\n",
    "Student ID - 17200072 </span></b>"
   ]
  },
  {
   "cell_type": "markdown",
   "metadata": {},
   "source": [
    "Import packages"
   ]
  },
  {
   "cell_type": "code",
   "execution_count": 328,
   "metadata": {
    "collapsed": true
   },
   "outputs": [],
   "source": [
    "import os\n",
    "import pandas as pd\n",
    "import numpy as np\n",
    "import urllib.request\n",
    "import json\n",
    "import bs4\n",
    "\n",
    "import matplotlib\n",
    "import matplotlib.pyplot as plt\n",
    "%matplotlib inline"
   ]
  },
  {
   "cell_type": "markdown",
   "metadata": {},
   "source": [
    "## Part 1. Data Collection"
   ]
  },
  {
   "cell_type": "markdown",
   "metadata": {},
   "source": [
    "### Task 1 - Identifying URLs and category labels"
   ]
  },
  {
   "cell_type": "markdown",
   "metadata": {},
   "source": [
    "To scrap the URLs, category and content of articles, parser called <u>BeautifulSoup</u> can be used."
   ]
  },
  {
   "cell_type": "code",
   "execution_count": 333,
   "metadata": {
    "collapsed": true
   },
   "outputs": [],
   "source": [
    "home_url = \"http://mlg.ucd.ie/modules/COMP41680/archive\"\n",
    "\n",
    "index = \"index.html\"\n",
    "\n",
    "# Get the content of home webpage\n",
    "content = urllib.request.urlopen(home_url + \"/\" + index)\n",
    "parser = bs4.BeautifulSoup(content, \"html.parser\")"
   ]
  },
  {
   "cell_type": "code",
   "execution_count": 465,
   "metadata": {},
   "outputs": [],
   "source": [
    "# Create an empty dictionary\n",
    "url_with_months = dict()\n",
    "\n",
    "# Scrap all urls along with their months\n",
    "for match in parser.find_all(\"li\"):\n",
    "    url_with_months[match.a.text] = match.a.get('href')\n",
    "\n"
   ]
  },
  {
   "cell_type": "markdown",
   "metadata": {},
   "source": [
    "Category label for each article has been scrapped in Task 2"
   ]
  },
  {
   "cell_type": "markdown",
   "metadata": {},
   "source": [
    "### Task 2 - Retrieving all webpages from the URLs and extract main body."
   ]
  },
  {
   "cell_type": "markdown",
   "metadata": {},
   "source": [
    "First extract the category and the URLs of articles."
   ]
  },
  {
   "cell_type": "code",
   "execution_count": 336,
   "metadata": {},
   "outputs": [],
   "source": [
    "# Create an empty dictionary to store article\n",
    "url_with_category = dict()\n",
    "\n",
    "# Ignore below categories\n",
    "ignore_categories = ['Article Category', 'N/A']\n",
    "\n",
    "# Get the URLs of main atrticles and category name\n",
    "for url_category in url_with_months.values():\n",
    "    \n",
    "    content2 = urllib.request.urlopen(home_url + \"/\" + url_category)\n",
    "    parser2 = bs4.BeautifulSoup(content2, \"html.parser\")\n",
    "    \n",
    "    for match in parser2.find_all(\"tr\"):\n",
    "        \n",
    "        # Get categories\n",
    "        category_name = match.td.text\n",
    "        category_name = category_name.strip()\n",
    "\n",
    "        # Store categories along with their URLs\n",
    "        if match.a != None and category_name not in ignore_categories:\n",
    "            url_with_category[match.a.get('href')] = category_name\n"
   ]
  },
  {
   "cell_type": "markdown",
   "metadata": {},
   "source": [
    "Now extract the article body and store the content along with their title. The idea is to scrap the title and body of all articles and store them in a single file. Each article will appear on each line of the file starting with the title."
   ]
  },
  {
   "cell_type": "markdown",
   "metadata": {},
   "source": [
    "<i>NOTE:</i> All articles web page have title mentioned twice. Below code will handle the duplication too. "
   ]
  },
  {
   "cell_type": "code",
   "execution_count": 337,
   "metadata": {
    "collapsed": true,
    "scrolled": true
   },
   "outputs": [],
   "source": [
    "articles_file = \"news-articles.txt\"\n",
    "\n",
    "# remove if articles_file already exists\n",
    "if os.path.exists(articles_file):\n",
    "    os.remove(articles_file)\n",
    "\n",
    "# Extract main body of article and title\n",
    "for link in list(url_with_category.keys()):\n",
    "\n",
    "    article_content = urllib.request.urlopen(home_url + \"/\" + link)\n",
    "    article_parser = bs4.BeautifulSoup(article_content, \"html.parser\")\n",
    "\n",
    "    # Open the file\n",
    "    f = open(articles_file, \"a\", encoding=\"utf-8\")\n",
    "    \n",
    "    # Extract the body content using parser\n",
    "    for result in article_parser.find_all('body'):\n",
    "        \n",
    "        # Capture title of the body\n",
    "        article_title = result.h2.text\n",
    "        article_title = article_title.strip()\n",
    "        f.write(article_title) # Write the title to the file\n",
    "        f.write(\" \")\n",
    "        \n",
    "        # Capture unnecessary contents\n",
    "        ignore_text = result.find(\"p\",{'class':'notice'}).text\n",
    "        ignore_text = ignore_text.strip()\n",
    "        \n",
    "        # Extract body of article\n",
    "        for article_body in result.find_all('p'):\n",
    "            \n",
    "            # Remove empty values\n",
    "            # Remove unnecessary contents\n",
    "            # Remove duplicate title\n",
    "            if len(article_body) > 0 and article_body.text != ignore_text and article_body.text != article_title:\n",
    "                \n",
    "                f.write(article_body.text) # Write the body to the file\n",
    "                f.write(\" \")\n",
    "                \n",
    "    f.write(\"\\n\")\n",
    "    f.close()"
   ]
  },
  {
   "cell_type": "markdown",
   "metadata": {},
   "source": [
    "### Task3 - Save the category labels for all articles in a separate file"
   ]
  },
  {
   "cell_type": "code",
   "execution_count": 338,
   "metadata": {
    "collapsed": true
   },
   "outputs": [],
   "source": [
    "# A separate file is created\n",
    "label_file = \"category_labels.txt\"\n",
    "\n",
    "# Remove the file if already exists\n",
    "if os.path.exists(label_file):\n",
    "    os.remove(label_file)\n",
    "\n",
    "# Open the file\n",
    "f2 = open(label_file, \"a\", encoding=\"utf-8\")\n",
    "\n",
    "# Add heading\n",
    "f2.write(\"name,class\")\n",
    "\n",
    "# scrap the categories along with the URL to that file\n",
    "for k_key in url_with_category:\n",
    "    v_value = url_with_category[k_key]\n",
    "    string = k_key + \",\" + v_value\n",
    "    f2.write(\"\\n\")\n",
    "    f2.write(string)\n",
    "    \n",
    "f2.close()"
   ]
  },
  {
   "cell_type": "markdown",
   "metadata": {},
   "source": [
    "  "
   ]
  },
  {
   "cell_type": "markdown",
   "metadata": {},
   "source": [
    "## Part 2. Text Classification"
   ]
  },
  {
   "cell_type": "markdown",
   "metadata": {},
   "source": [
    "### Task1 - Load the set of raw documents and ensure that each document has a class label"
   ]
  },
  {
   "cell_type": "code",
   "execution_count": 286,
   "metadata": {},
   "outputs": [
    {
     "data": {
      "text/html": [
       "<div>\n",
       "<style>\n",
       "    .dataframe thead tr:only-child th {\n",
       "        text-align: right;\n",
       "    }\n",
       "\n",
       "    .dataframe thead th {\n",
       "        text-align: left;\n",
       "    }\n",
       "\n",
       "    .dataframe tbody tr th {\n",
       "        vertical-align: top;\n",
       "    }\n",
       "</style>\n",
       "<table border=\"1\" class=\"dataframe\">\n",
       "  <thead>\n",
       "    <tr style=\"text-align: right;\">\n",
       "      <th></th>\n",
       "      <th>name</th>\n",
       "      <th>class</th>\n",
       "      <th>article</th>\n",
       "    </tr>\n",
       "  </thead>\n",
       "  <tbody>\n",
       "    <tr>\n",
       "      <th>0</th>\n",
       "      <td>article-jan-0418.html</td>\n",
       "      <td>technology</td>\n",
       "      <td>21st-Century Sports: How Digital Technology Is...</td>\n",
       "    </tr>\n",
       "    <tr>\n",
       "      <th>1</th>\n",
       "      <td>article-jan-0027.html</td>\n",
       "      <td>business</td>\n",
       "      <td>Asian quake hits European shares Shares in Eur...</td>\n",
       "    </tr>\n",
       "    <tr>\n",
       "      <th>2</th>\n",
       "      <td>article-jan-0631.html</td>\n",
       "      <td>technology</td>\n",
       "      <td>BT offers free net phone calls BT is offering ...</td>\n",
       "    </tr>\n",
       "    <tr>\n",
       "      <th>3</th>\n",
       "      <td>article-jan-2105.html</td>\n",
       "      <td>business</td>\n",
       "      <td>Barclays shares up on merger talk Shares in UK...</td>\n",
       "    </tr>\n",
       "    <tr>\n",
       "      <th>4</th>\n",
       "      <td>article-jan-3300.html</td>\n",
       "      <td>sport</td>\n",
       "      <td>Barkley fit for match in Ireland England centr...</td>\n",
       "    </tr>\n",
       "    <tr>\n",
       "      <th>5</th>\n",
       "      <td>article-jan-4187.html</td>\n",
       "      <td>sport</td>\n",
       "      <td>Bellamy under new fire Newcastle boss Graeme S...</td>\n",
       "    </tr>\n",
       "    <tr>\n",
       "      <th>6</th>\n",
       "      <td>article-jan-1974.html</td>\n",
       "      <td>sport</td>\n",
       "      <td>Benitez 'to launch Morientes bid' Liverpool ma...</td>\n",
       "    </tr>\n",
       "    <tr>\n",
       "      <th>7</th>\n",
       "      <td>article-jan-3666.html</td>\n",
       "      <td>sport</td>\n",
       "      <td>Benitez delight after crucial win Liverpool ma...</td>\n",
       "    </tr>\n",
       "    <tr>\n",
       "      <th>8</th>\n",
       "      <td>article-jan-2629.html</td>\n",
       "      <td>technology</td>\n",
       "      <td>Big war games battle it out The arrival of new...</td>\n",
       "    </tr>\n",
       "    <tr>\n",
       "      <th>9</th>\n",
       "      <td>article-jan-2415.html</td>\n",
       "      <td>technology</td>\n",
       "      <td>British Library gets wireless net Visitors to ...</td>\n",
       "    </tr>\n",
       "  </tbody>\n",
       "</table>\n",
       "</div>"
      ],
      "text/plain": [
       "                    name       class  \\\n",
       "0  article-jan-0418.html  technology   \n",
       "1  article-jan-0027.html    business   \n",
       "2  article-jan-0631.html  technology   \n",
       "3  article-jan-2105.html    business   \n",
       "4  article-jan-3300.html       sport   \n",
       "5  article-jan-4187.html       sport   \n",
       "6  article-jan-1974.html       sport   \n",
       "7  article-jan-3666.html       sport   \n",
       "8  article-jan-2629.html  technology   \n",
       "9  article-jan-2415.html  technology   \n",
       "\n",
       "                                             article  \n",
       "0  21st-Century Sports: How Digital Technology Is...  \n",
       "1  Asian quake hits European shares Shares in Eur...  \n",
       "2  BT offers free net phone calls BT is offering ...  \n",
       "3  Barclays shares up on merger talk Shares in UK...  \n",
       "4  Barkley fit for match in Ireland England centr...  \n",
       "5  Bellamy under new fire Newcastle boss Graeme S...  \n",
       "6  Benitez 'to launch Morientes bid' Liverpool ma...  \n",
       "7  Benitez delight after crucial win Liverpool ma...  \n",
       "8  Big war games battle it out The arrival of new...  \n",
       "9  British Library gets wireless net Visitors to ...  "
      ]
     },
     "execution_count": 286,
     "metadata": {},
     "output_type": "execute_result"
    }
   ],
   "source": [
    "# Open the news-articles file and store it's content\n",
    "f_articles = open(\"news-articles.txt\",\"r\", encoding=\"utf-8\")\n",
    "raw_documents = f_articles.readlines()\n",
    "f_articles.close()\n",
    "\n",
    "# Create an empty list\n",
    "article_content = []\n",
    "\n",
    "# Read contents of news-article file line by line and append them into the list\n",
    "for each_line in raw_documents:\n",
    "    article_content.append(each_line)\n",
    "\n",
    "# Now, read the category label file and store into a dataframe\n",
    "df = pd.read_csv('category_labels.txt')\n",
    "\n",
    "# This dataframe has only document name and class label\n",
    "# So, create an additional column to add the contents for each document.\n",
    "df['article'] = article_content\n",
    "df.head(10)"
   ]
  },
  {
   "cell_type": "code",
   "execution_count": 652,
   "metadata": {},
   "outputs": [
    {
     "name": "stdout",
     "output_type": "stream",
     "text": [
      "21st-Century Sports: How Digital Technology Is Changing the Face Of The Sporting Industry The sporting industry has come a long way since the ‘60s. It has carved out for itself a niche with its roots so deep that I cannot fathom the sports industry showing any sign of decline any time soon - or later. The reason can be found in this seemingly subtle difference - other industries have customers; the sporting industry has fans. Vivek Ranadivé, leader of the ownership group of the NBA’s Sacramento Kings, explained it beautifully, “Fans will paint their face purple, fans will evangelize. ... Every other CEO in every business is dying to be in our position — they’re dying to have fans.“ While fan passion alone could almost certainly keep the industry going, leagues and sporting franchises have decided not to rest on their laurels. The last few years have seen the steady introduction of technology into the world of sports - amplifying fans’ appreciation of games, enhancing athletes’ public p\n"
     ]
    }
   ],
   "source": [
    "sample_doc = raw_documents[0]\n",
    "# print a snippet\n",
    "print(sample_doc[0:1000])"
   ]
  },
  {
   "cell_type": "markdown",
   "metadata": {},
   "source": [
    "  "
   ]
  },
  {
   "cell_type": "markdown",
   "metadata": {},
   "source": [
    "### Task2 - create a document-term matrix, using appropriate text pre-processing and term weighting steps"
   ]
  },
  {
   "cell_type": "markdown",
   "metadata": {},
   "source": [
    "Document-term matrix can be created from list of document string using Scikit-learn."
   ]
  },
  {
   "cell_type": "markdown",
   "metadata": {},
   "source": [
    "<b><i>Pre-processing steps</i></b><br><br>\n",
    "Below are the steps which include the pre-processing of data.<br>\n",
    "- Minimum term length: Exclude terms of length < 2. Scikit-learn does this by default.\n",
    "- Case conversion: Converting all terms to lowercase. Scikit-learn does this by default.\n",
    "- Stop-word filtering: Remove terms that appear on a pre-defined \"blacklist\" of terms that are highly frequent and do- not convey useful information.\n",
    "- Low frequency filtering: Remove terms that appear in very few documents.\n",
    "- Lemmatization: Reduce words to their base forms."
   ]
  },
  {
   "cell_type": "markdown",
   "metadata": {},
   "source": [
    "<i>NOTE</i>: Stemming can also be used instead of lemmatization. Stemming usually refers to a crude heuristic process that chops off the ends of words in the hope of achieving the goal of reducing words to their roots correctly most of the time, and often includes the removal of derivational affixes. Lemmatization usually refers to doing things properly with the use of a vocabulary and morphological analysis of words, normally aiming to remove inflectional endings only and to return the base or dictionary form of a word, which is known as the lemma. It is found that WordNet Lemmatisation is better in terms of conversion of words to their roots. Hence, stemming has been opted out."
   ]
  },
  {
   "cell_type": "markdown",
   "metadata": {},
   "source": [
    "To stem tokens to their base form, we need to use functionality from another third party library: <b>NLTK.</b>"
   ]
  },
  {
   "cell_type": "code",
   "execution_count": 343,
   "metadata": {
    "collapsed": true
   },
   "outputs": [],
   "source": [
    "import nltk\n",
    "import string\n",
    "\n",
    "from sklearn.feature_extraction.text import CountVectorizer\n",
    "from sklearn.feature_extraction.text import TfidfVectorizer"
   ]
  },
  {
   "cell_type": "markdown",
   "metadata": {},
   "source": [
    "Below function <i>lemma_tokenizer</i> is used for three purposes:\n",
    "- Remove all punctuation from the raw text.\n",
    "- Break the raw text into individual tokens because the documents are textual, not numeric.\n",
    "- using wordNet lemmatizer, change the word tokens to their base form"
   ]
  },
  {
   "cell_type": "code",
   "execution_count": 344,
   "metadata": {
    "collapsed": true
   },
   "outputs": [],
   "source": [
    "# Define the function\n",
    "def lemma_tokenizer(text):\n",
    "    \n",
    "    # Remove punctuation\n",
    "    for punc in string.punctuation:\n",
    "        text = text.replace(punc, \"\")\n",
    "        \n",
    "    # Use the standard scikit-learn tokenizer first\n",
    "    standard_tokenizer = CountVectorizer().build_tokenizer()\n",
    "    tokens = standard_tokenizer(text)\n",
    "    \n",
    "    # Then use NLTK to perform lemmatisation on each token\n",
    "    lemmatizer = nltk.stem.WordNetLemmatizer()\n",
    "    lemma_tokens = []\n",
    "    \n",
    "    for token in tokens:\n",
    "        lemma_tokens.append(lemmatizer.lemmatize(token))\n",
    "        \n",
    "    return lemma_tokens"
   ]
  },
  {
   "cell_type": "markdown",
   "metadata": {},
   "source": [
    "  "
   ]
  },
  {
   "cell_type": "markdown",
   "metadata": {},
   "source": [
    "<b><i>Term Weighting steps</i></b><br><br>\n",
    "We can improve the usefulness of the document-term matrix by giving more weight to the more \"important\" terms.<br>\n",
    "The most common normalisation is term frequency–inverse document frequency (TF-IDF). In Scikit-learn, we can generate at TF-IDF weighted document-term matrix by using TfidfVectorizer()."
   ]
  },
  {
   "cell_type": "code",
   "execution_count": 345,
   "metadata": {},
   "outputs": [
    {
     "name": "stdout",
     "output_type": "stream",
     "text": [
      "(1408, 6273)\n"
     ]
    },
    {
     "data": {
      "text/html": [
       "<div>\n",
       "<style>\n",
       "    .dataframe thead tr:only-child th {\n",
       "        text-align: right;\n",
       "    }\n",
       "\n",
       "    .dataframe thead th {\n",
       "        text-align: left;\n",
       "    }\n",
       "\n",
       "    .dataframe tbody tr th {\n",
       "        vertical-align: top;\n",
       "    }\n",
       "</style>\n",
       "<table border=\"1\" class=\"dataframe\">\n",
       "  <thead>\n",
       "    <tr style=\"text-align: right;\">\n",
       "      <th></th>\n",
       "      <th>00</th>\n",
       "      <th>01</th>\n",
       "      <th>02</th>\n",
       "      <th>03</th>\n",
       "      <th>04</th>\n",
       "      <th>05</th>\n",
       "      <th>06</th>\n",
       "      <th>07</th>\n",
       "      <th>08</th>\n",
       "      <th>10</th>\n",
       "      <th>...</th>\n",
       "      <th>yuganskneftegas</th>\n",
       "      <th>yukos</th>\n",
       "      <th>zealand</th>\n",
       "      <th>zero</th>\n",
       "      <th>zidane</th>\n",
       "      <th>zinedine</th>\n",
       "      <th>zombie</th>\n",
       "      <th>zone</th>\n",
       "      <th>zoom</th>\n",
       "      <th>zurich</th>\n",
       "    </tr>\n",
       "  </thead>\n",
       "  <tbody>\n",
       "    <tr>\n",
       "      <th>0</th>\n",
       "      <td>0.0</td>\n",
       "      <td>0.00000</td>\n",
       "      <td>0.000000</td>\n",
       "      <td>0.000000</td>\n",
       "      <td>0.0</td>\n",
       "      <td>0.0</td>\n",
       "      <td>0.000000</td>\n",
       "      <td>0.0</td>\n",
       "      <td>0.0</td>\n",
       "      <td>0.000000</td>\n",
       "      <td>...</td>\n",
       "      <td>0.0</td>\n",
       "      <td>0.0</td>\n",
       "      <td>0.0</td>\n",
       "      <td>0.0</td>\n",
       "      <td>0.0</td>\n",
       "      <td>0.0</td>\n",
       "      <td>0.0</td>\n",
       "      <td>0.0</td>\n",
       "      <td>0.0</td>\n",
       "      <td>0.000000</td>\n",
       "    </tr>\n",
       "    <tr>\n",
       "      <th>1</th>\n",
       "      <td>0.0</td>\n",
       "      <td>0.05494</td>\n",
       "      <td>0.056639</td>\n",
       "      <td>0.057272</td>\n",
       "      <td>0.0</td>\n",
       "      <td>0.0</td>\n",
       "      <td>0.063288</td>\n",
       "      <td>0.0</td>\n",
       "      <td>0.0</td>\n",
       "      <td>0.000000</td>\n",
       "      <td>...</td>\n",
       "      <td>0.0</td>\n",
       "      <td>0.0</td>\n",
       "      <td>0.0</td>\n",
       "      <td>0.0</td>\n",
       "      <td>0.0</td>\n",
       "      <td>0.0</td>\n",
       "      <td>0.0</td>\n",
       "      <td>0.0</td>\n",
       "      <td>0.0</td>\n",
       "      <td>0.057947</td>\n",
       "    </tr>\n",
       "    <tr>\n",
       "      <th>2</th>\n",
       "      <td>0.0</td>\n",
       "      <td>0.00000</td>\n",
       "      <td>0.000000</td>\n",
       "      <td>0.000000</td>\n",
       "      <td>0.0</td>\n",
       "      <td>0.0</td>\n",
       "      <td>0.000000</td>\n",
       "      <td>0.0</td>\n",
       "      <td>0.0</td>\n",
       "      <td>0.029091</td>\n",
       "      <td>...</td>\n",
       "      <td>0.0</td>\n",
       "      <td>0.0</td>\n",
       "      <td>0.0</td>\n",
       "      <td>0.0</td>\n",
       "      <td>0.0</td>\n",
       "      <td>0.0</td>\n",
       "      <td>0.0</td>\n",
       "      <td>0.0</td>\n",
       "      <td>0.0</td>\n",
       "      <td>0.000000</td>\n",
       "    </tr>\n",
       "    <tr>\n",
       "      <th>3</th>\n",
       "      <td>0.0</td>\n",
       "      <td>0.00000</td>\n",
       "      <td>0.000000</td>\n",
       "      <td>0.000000</td>\n",
       "      <td>0.0</td>\n",
       "      <td>0.0</td>\n",
       "      <td>0.000000</td>\n",
       "      <td>0.0</td>\n",
       "      <td>0.0</td>\n",
       "      <td>0.000000</td>\n",
       "      <td>...</td>\n",
       "      <td>0.0</td>\n",
       "      <td>0.0</td>\n",
       "      <td>0.0</td>\n",
       "      <td>0.0</td>\n",
       "      <td>0.0</td>\n",
       "      <td>0.0</td>\n",
       "      <td>0.0</td>\n",
       "      <td>0.0</td>\n",
       "      <td>0.0</td>\n",
       "      <td>0.000000</td>\n",
       "    </tr>\n",
       "    <tr>\n",
       "      <th>4</th>\n",
       "      <td>0.0</td>\n",
       "      <td>0.00000</td>\n",
       "      <td>0.000000</td>\n",
       "      <td>0.000000</td>\n",
       "      <td>0.0</td>\n",
       "      <td>0.0</td>\n",
       "      <td>0.000000</td>\n",
       "      <td>0.0</td>\n",
       "      <td>0.0</td>\n",
       "      <td>0.040226</td>\n",
       "      <td>...</td>\n",
       "      <td>0.0</td>\n",
       "      <td>0.0</td>\n",
       "      <td>0.0</td>\n",
       "      <td>0.0</td>\n",
       "      <td>0.0</td>\n",
       "      <td>0.0</td>\n",
       "      <td>0.0</td>\n",
       "      <td>0.0</td>\n",
       "      <td>0.0</td>\n",
       "      <td>0.000000</td>\n",
       "    </tr>\n",
       "  </tbody>\n",
       "</table>\n",
       "<p>5 rows × 6273 columns</p>\n",
       "</div>"
      ],
      "text/plain": [
       "    00       01        02        03   04   05        06   07   08        10  \\\n",
       "0  0.0  0.00000  0.000000  0.000000  0.0  0.0  0.000000  0.0  0.0  0.000000   \n",
       "1  0.0  0.05494  0.056639  0.057272  0.0  0.0  0.063288  0.0  0.0  0.000000   \n",
       "2  0.0  0.00000  0.000000  0.000000  0.0  0.0  0.000000  0.0  0.0  0.029091   \n",
       "3  0.0  0.00000  0.000000  0.000000  0.0  0.0  0.000000  0.0  0.0  0.000000   \n",
       "4  0.0  0.00000  0.000000  0.000000  0.0  0.0  0.000000  0.0  0.0  0.040226   \n",
       "\n",
       "     ...     yuganskneftegas  yukos  zealand  zero  zidane  zinedine  zombie  \\\n",
       "0    ...                 0.0    0.0      0.0   0.0     0.0       0.0     0.0   \n",
       "1    ...                 0.0    0.0      0.0   0.0     0.0       0.0     0.0   \n",
       "2    ...                 0.0    0.0      0.0   0.0     0.0       0.0     0.0   \n",
       "3    ...                 0.0    0.0      0.0   0.0     0.0       0.0     0.0   \n",
       "4    ...                 0.0    0.0      0.0   0.0     0.0       0.0     0.0   \n",
       "\n",
       "   zone  zoom    zurich  \n",
       "0   0.0   0.0  0.000000  \n",
       "1   0.0   0.0  0.057947  \n",
       "2   0.0   0.0  0.000000  \n",
       "3   0.0   0.0  0.000000  \n",
       "4   0.0   0.0  0.000000  \n",
       "\n",
       "[5 rows x 6273 columns]"
      ]
     },
     "execution_count": 345,
     "metadata": {},
     "output_type": "execute_result"
    }
   ],
   "source": [
    "# Lets put all pre-processing steps and term weighting steps together\n",
    "vectorizer = TfidfVectorizer(stop_words=\"english\",min_df = 5, tokenizer=lemma_tokenizer)\n",
    "X = vectorizer.fit_transform(raw_documents)\n",
    "\n",
    "print(X.shape)\n",
    "\n",
    "# Create a dataframe\n",
    "df_vectorized = pd.DataFrame(X.toarray(), columns=vectorizer.get_feature_names())\n",
    "\n",
    "# Display the document-term matrix\n",
    "df_vectorized.head()"
   ]
  },
  {
   "cell_type": "markdown",
   "metadata": {},
   "source": [
    "  "
   ]
  },
  {
   "cell_type": "markdown",
   "metadata": {},
   "source": [
    "Attach the category labels to the document matrix"
   ]
  },
  {
   "cell_type": "code",
   "execution_count": 347,
   "metadata": {},
   "outputs": [
    {
     "data": {
      "text/html": [
       "<div>\n",
       "<style>\n",
       "    .dataframe thead tr:only-child th {\n",
       "        text-align: right;\n",
       "    }\n",
       "\n",
       "    .dataframe thead th {\n",
       "        text-align: left;\n",
       "    }\n",
       "\n",
       "    .dataframe tbody tr th {\n",
       "        vertical-align: top;\n",
       "    }\n",
       "</style>\n",
       "<table border=\"1\" class=\"dataframe\">\n",
       "  <thead>\n",
       "    <tr style=\"text-align: right;\">\n",
       "      <th></th>\n",
       "      <th>00</th>\n",
       "      <th>01</th>\n",
       "      <th>02</th>\n",
       "      <th>03</th>\n",
       "      <th>04</th>\n",
       "      <th>05</th>\n",
       "      <th>06</th>\n",
       "      <th>07</th>\n",
       "      <th>08</th>\n",
       "      <th>10</th>\n",
       "      <th>...</th>\n",
       "      <th>yukos</th>\n",
       "      <th>zealand</th>\n",
       "      <th>zero</th>\n",
       "      <th>zidane</th>\n",
       "      <th>zinedine</th>\n",
       "      <th>zombie</th>\n",
       "      <th>zone</th>\n",
       "      <th>zoom</th>\n",
       "      <th>zurich</th>\n",
       "      <th>class_label</th>\n",
       "    </tr>\n",
       "    <tr>\n",
       "      <th>doc_name</th>\n",
       "      <th></th>\n",
       "      <th></th>\n",
       "      <th></th>\n",
       "      <th></th>\n",
       "      <th></th>\n",
       "      <th></th>\n",
       "      <th></th>\n",
       "      <th></th>\n",
       "      <th></th>\n",
       "      <th></th>\n",
       "      <th></th>\n",
       "      <th></th>\n",
       "      <th></th>\n",
       "      <th></th>\n",
       "      <th></th>\n",
       "      <th></th>\n",
       "      <th></th>\n",
       "      <th></th>\n",
       "      <th></th>\n",
       "      <th></th>\n",
       "      <th></th>\n",
       "    </tr>\n",
       "  </thead>\n",
       "  <tbody>\n",
       "    <tr>\n",
       "      <th>article-jan-0418.html</th>\n",
       "      <td>0.0</td>\n",
       "      <td>0.00000</td>\n",
       "      <td>0.000000</td>\n",
       "      <td>0.000000</td>\n",
       "      <td>0.0</td>\n",
       "      <td>0.0</td>\n",
       "      <td>0.000000</td>\n",
       "      <td>0.0</td>\n",
       "      <td>0.0</td>\n",
       "      <td>0.000000</td>\n",
       "      <td>...</td>\n",
       "      <td>0.0</td>\n",
       "      <td>0.0</td>\n",
       "      <td>0.000000</td>\n",
       "      <td>0.0</td>\n",
       "      <td>0.0</td>\n",
       "      <td>0.0</td>\n",
       "      <td>0.000000</td>\n",
       "      <td>0.0</td>\n",
       "      <td>0.000000</td>\n",
       "      <td>technology</td>\n",
       "    </tr>\n",
       "    <tr>\n",
       "      <th>article-jan-0027.html</th>\n",
       "      <td>0.0</td>\n",
       "      <td>0.05494</td>\n",
       "      <td>0.056639</td>\n",
       "      <td>0.057272</td>\n",
       "      <td>0.0</td>\n",
       "      <td>0.0</td>\n",
       "      <td>0.063288</td>\n",
       "      <td>0.0</td>\n",
       "      <td>0.0</td>\n",
       "      <td>0.000000</td>\n",
       "      <td>...</td>\n",
       "      <td>0.0</td>\n",
       "      <td>0.0</td>\n",
       "      <td>0.000000</td>\n",
       "      <td>0.0</td>\n",
       "      <td>0.0</td>\n",
       "      <td>0.0</td>\n",
       "      <td>0.000000</td>\n",
       "      <td>0.0</td>\n",
       "      <td>0.057947</td>\n",
       "      <td>business</td>\n",
       "    </tr>\n",
       "    <tr>\n",
       "      <th>article-jan-0631.html</th>\n",
       "      <td>0.0</td>\n",
       "      <td>0.00000</td>\n",
       "      <td>0.000000</td>\n",
       "      <td>0.000000</td>\n",
       "      <td>0.0</td>\n",
       "      <td>0.0</td>\n",
       "      <td>0.000000</td>\n",
       "      <td>0.0</td>\n",
       "      <td>0.0</td>\n",
       "      <td>0.029091</td>\n",
       "      <td>...</td>\n",
       "      <td>0.0</td>\n",
       "      <td>0.0</td>\n",
       "      <td>0.000000</td>\n",
       "      <td>0.0</td>\n",
       "      <td>0.0</td>\n",
       "      <td>0.0</td>\n",
       "      <td>0.000000</td>\n",
       "      <td>0.0</td>\n",
       "      <td>0.000000</td>\n",
       "      <td>technology</td>\n",
       "    </tr>\n",
       "    <tr>\n",
       "      <th>article-jan-2105.html</th>\n",
       "      <td>0.0</td>\n",
       "      <td>0.00000</td>\n",
       "      <td>0.000000</td>\n",
       "      <td>0.000000</td>\n",
       "      <td>0.0</td>\n",
       "      <td>0.0</td>\n",
       "      <td>0.000000</td>\n",
       "      <td>0.0</td>\n",
       "      <td>0.0</td>\n",
       "      <td>0.000000</td>\n",
       "      <td>...</td>\n",
       "      <td>0.0</td>\n",
       "      <td>0.0</td>\n",
       "      <td>0.000000</td>\n",
       "      <td>0.0</td>\n",
       "      <td>0.0</td>\n",
       "      <td>0.0</td>\n",
       "      <td>0.000000</td>\n",
       "      <td>0.0</td>\n",
       "      <td>0.000000</td>\n",
       "      <td>business</td>\n",
       "    </tr>\n",
       "    <tr>\n",
       "      <th>article-jan-3300.html</th>\n",
       "      <td>0.0</td>\n",
       "      <td>0.00000</td>\n",
       "      <td>0.000000</td>\n",
       "      <td>0.000000</td>\n",
       "      <td>0.0</td>\n",
       "      <td>0.0</td>\n",
       "      <td>0.000000</td>\n",
       "      <td>0.0</td>\n",
       "      <td>0.0</td>\n",
       "      <td>0.040226</td>\n",
       "      <td>...</td>\n",
       "      <td>0.0</td>\n",
       "      <td>0.0</td>\n",
       "      <td>0.000000</td>\n",
       "      <td>0.0</td>\n",
       "      <td>0.0</td>\n",
       "      <td>0.0</td>\n",
       "      <td>0.000000</td>\n",
       "      <td>0.0</td>\n",
       "      <td>0.000000</td>\n",
       "      <td>sport</td>\n",
       "    </tr>\n",
       "    <tr>\n",
       "      <th>article-jan-4187.html</th>\n",
       "      <td>0.0</td>\n",
       "      <td>0.00000</td>\n",
       "      <td>0.000000</td>\n",
       "      <td>0.000000</td>\n",
       "      <td>0.0</td>\n",
       "      <td>0.0</td>\n",
       "      <td>0.000000</td>\n",
       "      <td>0.0</td>\n",
       "      <td>0.0</td>\n",
       "      <td>0.000000</td>\n",
       "      <td>...</td>\n",
       "      <td>0.0</td>\n",
       "      <td>0.0</td>\n",
       "      <td>0.000000</td>\n",
       "      <td>0.0</td>\n",
       "      <td>0.0</td>\n",
       "      <td>0.0</td>\n",
       "      <td>0.000000</td>\n",
       "      <td>0.0</td>\n",
       "      <td>0.000000</td>\n",
       "      <td>sport</td>\n",
       "    </tr>\n",
       "    <tr>\n",
       "      <th>article-jan-1974.html</th>\n",
       "      <td>0.0</td>\n",
       "      <td>0.00000</td>\n",
       "      <td>0.000000</td>\n",
       "      <td>0.000000</td>\n",
       "      <td>0.0</td>\n",
       "      <td>0.0</td>\n",
       "      <td>0.000000</td>\n",
       "      <td>0.0</td>\n",
       "      <td>0.0</td>\n",
       "      <td>0.000000</td>\n",
       "      <td>...</td>\n",
       "      <td>0.0</td>\n",
       "      <td>0.0</td>\n",
       "      <td>0.000000</td>\n",
       "      <td>0.0</td>\n",
       "      <td>0.0</td>\n",
       "      <td>0.0</td>\n",
       "      <td>0.000000</td>\n",
       "      <td>0.0</td>\n",
       "      <td>0.000000</td>\n",
       "      <td>sport</td>\n",
       "    </tr>\n",
       "    <tr>\n",
       "      <th>article-jan-3666.html</th>\n",
       "      <td>0.0</td>\n",
       "      <td>0.00000</td>\n",
       "      <td>0.000000</td>\n",
       "      <td>0.000000</td>\n",
       "      <td>0.0</td>\n",
       "      <td>0.0</td>\n",
       "      <td>0.000000</td>\n",
       "      <td>0.0</td>\n",
       "      <td>0.0</td>\n",
       "      <td>0.039356</td>\n",
       "      <td>...</td>\n",
       "      <td>0.0</td>\n",
       "      <td>0.0</td>\n",
       "      <td>0.000000</td>\n",
       "      <td>0.0</td>\n",
       "      <td>0.0</td>\n",
       "      <td>0.0</td>\n",
       "      <td>0.000000</td>\n",
       "      <td>0.0</td>\n",
       "      <td>0.000000</td>\n",
       "      <td>sport</td>\n",
       "    </tr>\n",
       "    <tr>\n",
       "      <th>article-jan-2629.html</th>\n",
       "      <td>0.0</td>\n",
       "      <td>0.00000</td>\n",
       "      <td>0.000000</td>\n",
       "      <td>0.000000</td>\n",
       "      <td>0.0</td>\n",
       "      <td>0.0</td>\n",
       "      <td>0.000000</td>\n",
       "      <td>0.0</td>\n",
       "      <td>0.0</td>\n",
       "      <td>0.000000</td>\n",
       "      <td>...</td>\n",
       "      <td>0.0</td>\n",
       "      <td>0.0</td>\n",
       "      <td>0.052517</td>\n",
       "      <td>0.0</td>\n",
       "      <td>0.0</td>\n",
       "      <td>0.0</td>\n",
       "      <td>0.000000</td>\n",
       "      <td>0.0</td>\n",
       "      <td>0.000000</td>\n",
       "      <td>technology</td>\n",
       "    </tr>\n",
       "    <tr>\n",
       "      <th>article-jan-2415.html</th>\n",
       "      <td>0.0</td>\n",
       "      <td>0.00000</td>\n",
       "      <td>0.000000</td>\n",
       "      <td>0.000000</td>\n",
       "      <td>0.0</td>\n",
       "      <td>0.0</td>\n",
       "      <td>0.000000</td>\n",
       "      <td>0.0</td>\n",
       "      <td>0.0</td>\n",
       "      <td>0.000000</td>\n",
       "      <td>...</td>\n",
       "      <td>0.0</td>\n",
       "      <td>0.0</td>\n",
       "      <td>0.000000</td>\n",
       "      <td>0.0</td>\n",
       "      <td>0.0</td>\n",
       "      <td>0.0</td>\n",
       "      <td>0.052455</td>\n",
       "      <td>0.0</td>\n",
       "      <td>0.000000</td>\n",
       "      <td>technology</td>\n",
       "    </tr>\n",
       "  </tbody>\n",
       "</table>\n",
       "<p>10 rows × 6274 columns</p>\n",
       "</div>"
      ],
      "text/plain": [
       "                        00       01        02        03   04   05        06  \\\n",
       "doc_name                                                                      \n",
       "article-jan-0418.html  0.0  0.00000  0.000000  0.000000  0.0  0.0  0.000000   \n",
       "article-jan-0027.html  0.0  0.05494  0.056639  0.057272  0.0  0.0  0.063288   \n",
       "article-jan-0631.html  0.0  0.00000  0.000000  0.000000  0.0  0.0  0.000000   \n",
       "article-jan-2105.html  0.0  0.00000  0.000000  0.000000  0.0  0.0  0.000000   \n",
       "article-jan-3300.html  0.0  0.00000  0.000000  0.000000  0.0  0.0  0.000000   \n",
       "article-jan-4187.html  0.0  0.00000  0.000000  0.000000  0.0  0.0  0.000000   \n",
       "article-jan-1974.html  0.0  0.00000  0.000000  0.000000  0.0  0.0  0.000000   \n",
       "article-jan-3666.html  0.0  0.00000  0.000000  0.000000  0.0  0.0  0.000000   \n",
       "article-jan-2629.html  0.0  0.00000  0.000000  0.000000  0.0  0.0  0.000000   \n",
       "article-jan-2415.html  0.0  0.00000  0.000000  0.000000  0.0  0.0  0.000000   \n",
       "\n",
       "                        07   08        10     ...       yukos  zealand  \\\n",
       "doc_name                                      ...                        \n",
       "article-jan-0418.html  0.0  0.0  0.000000     ...         0.0      0.0   \n",
       "article-jan-0027.html  0.0  0.0  0.000000     ...         0.0      0.0   \n",
       "article-jan-0631.html  0.0  0.0  0.029091     ...         0.0      0.0   \n",
       "article-jan-2105.html  0.0  0.0  0.000000     ...         0.0      0.0   \n",
       "article-jan-3300.html  0.0  0.0  0.040226     ...         0.0      0.0   \n",
       "article-jan-4187.html  0.0  0.0  0.000000     ...         0.0      0.0   \n",
       "article-jan-1974.html  0.0  0.0  0.000000     ...         0.0      0.0   \n",
       "article-jan-3666.html  0.0  0.0  0.039356     ...         0.0      0.0   \n",
       "article-jan-2629.html  0.0  0.0  0.000000     ...         0.0      0.0   \n",
       "article-jan-2415.html  0.0  0.0  0.000000     ...         0.0      0.0   \n",
       "\n",
       "                           zero  zidane  zinedine  zombie      zone  zoom  \\\n",
       "doc_name                                                                    \n",
       "article-jan-0418.html  0.000000     0.0       0.0     0.0  0.000000   0.0   \n",
       "article-jan-0027.html  0.000000     0.0       0.0     0.0  0.000000   0.0   \n",
       "article-jan-0631.html  0.000000     0.0       0.0     0.0  0.000000   0.0   \n",
       "article-jan-2105.html  0.000000     0.0       0.0     0.0  0.000000   0.0   \n",
       "article-jan-3300.html  0.000000     0.0       0.0     0.0  0.000000   0.0   \n",
       "article-jan-4187.html  0.000000     0.0       0.0     0.0  0.000000   0.0   \n",
       "article-jan-1974.html  0.000000     0.0       0.0     0.0  0.000000   0.0   \n",
       "article-jan-3666.html  0.000000     0.0       0.0     0.0  0.000000   0.0   \n",
       "article-jan-2629.html  0.052517     0.0       0.0     0.0  0.000000   0.0   \n",
       "article-jan-2415.html  0.000000     0.0       0.0     0.0  0.052455   0.0   \n",
       "\n",
       "                         zurich  class_label  \n",
       "doc_name                                      \n",
       "article-jan-0418.html  0.000000   technology  \n",
       "article-jan-0027.html  0.057947     business  \n",
       "article-jan-0631.html  0.000000   technology  \n",
       "article-jan-2105.html  0.000000     business  \n",
       "article-jan-3300.html  0.000000        sport  \n",
       "article-jan-4187.html  0.000000        sport  \n",
       "article-jan-1974.html  0.000000        sport  \n",
       "article-jan-3666.html  0.000000        sport  \n",
       "article-jan-2629.html  0.000000   technology  \n",
       "article-jan-2415.html  0.000000   technology  \n",
       "\n",
       "[10 rows x 6274 columns]"
      ]
     },
     "execution_count": 347,
     "metadata": {},
     "output_type": "execute_result"
    }
   ],
   "source": [
    "# Read the category_labels.txt file\n",
    "read_labels = pd.read_csv(\"category_labels.txt\")\n",
    "\n",
    "# Check if \"class_label\" column already exists, if not create one and then add the categories to this column\n",
    "if 'class_label' not in df_vectorized.columns:\n",
    "    df_vectorized['class_label'] = read_labels['class']\n",
    "\n",
    "# Check if \"doc_name\" column already exists, if not create one and then add name to this column and set it as index\n",
    "if 'doc_name' not in df_vectorized.columns and df_vectorized.index.name != 'doc_name':\n",
    "    df_vectorized['doc_name'] = read_labels['name']\n",
    "    df_vectorized = df_vectorized.set_index('doc_name') # set index\n",
    "\n",
    "# Display\n",
    "df_vectorized.head(10)"
   ]
  },
  {
   "cell_type": "markdown",
   "metadata": {},
   "source": [
    "  "
   ]
  },
  {
   "cell_type": "markdown",
   "metadata": {},
   "source": [
    "We can check the count of each labels"
   ]
  },
  {
   "cell_type": "code",
   "execution_count": 380,
   "metadata": {},
   "outputs": [
    {
     "data": {
      "image/png": "[encoded data removed]",
      "text/plain": [
       "<matplotlib.figure.Figure at 0x2536e58e5f8>"
      ]
     },
     "metadata": {},
     "output_type": "display_data"
    }
   ],
   "source": [
    "plt.figure()\n",
    "df_vectorized.groupby('class_label').content.count().plot.bar(rot=0)\n",
    "plt.title(\"Count of Each Label\", fontweight='bold')\n",
    "plt.xlabel(\"Categories\", fontsize=12, fontweight='bold')\n",
    "plt.ylabel(\"Count\", fontsize=12, fontweight='bold')\n",
    "plt.show()"
   ]
  },
  {
   "cell_type": "markdown",
   "metadata": {
    "collapsed": true
   },
   "source": [
    "  "
   ]
  },
  {
   "cell_type": "markdown",
   "metadata": {
    "collapsed": true
   },
   "source": [
    "### Task3 - Build two multi-class classification models using two different classifiers."
   ]
  },
  {
   "cell_type": "markdown",
   "metadata": {},
   "source": [
    "The goal of the classification tasks for this dataset is to check how accurate the classification models can predict the correct category labels ('technology', 'sport', 'business')."
   ]
  },
  {
   "cell_type": "markdown",
   "metadata": {},
   "source": [
    "Get the data"
   ]
  },
  {
   "cell_type": "code",
   "execution_count": 350,
   "metadata": {
    "collapsed": true
   },
   "outputs": [],
   "source": [
    "# Put all data(except categories) from document-term matrix to X\n",
    "X = df_vectorized.iloc[:, :-1]\n",
    "\n",
    "# Put only the categories into Y\n",
    "Y = df['class']"
   ]
  },
  {
   "cell_type": "markdown",
   "metadata": {},
   "source": [
    "Prepare training and test dataset"
   ]
  },
  {
   "cell_type": "code",
   "execution_count": 351,
   "metadata": {
    "collapsed": true
   },
   "outputs": [],
   "source": [
    "# Splitting data into training and test set\n",
    "X_train, X_test, y_train, y_test = train_test_split(X, Y, \\\n",
    "                                                    test_size = 0.3, \\\n",
    "                                                    random_state=0)"
   ]
  },
  {
   "cell_type": "markdown",
   "metadata": {},
   "source": [
    "Training set can further be divided to validation set. This set can also be useful to check if the model is overfitting. However, we will <u>use</u> this validation set during evaluation only."
   ]
  },
  {
   "cell_type": "code",
   "execution_count": 352,
   "metadata": {
    "collapsed": true
   },
   "outputs": [],
   "source": [
    "# splitting training data into train set and validation set\n",
    "X_train_set, X_valid_set, y_train_set, y_valid_set = train_test_split(X_train, y_train, \\\n",
    "                                                                      test_size = 0.2, \\\n",
    "                                                                      random_state=0)"
   ]
  },
  {
   "cell_type": "markdown",
   "metadata": {},
   "source": [
    "  "
   ]
  },
  {
   "cell_type": "markdown",
   "metadata": {},
   "source": [
    "<b><i>Build multiclass classification models</i></b>"
   ]
  },
  {
   "cell_type": "markdown",
   "metadata": {
    "collapsed": true
   },
   "source": [
    "Let's take two different classifiers: <br>\n",
    "- <i>K-Nearest Neighbours (KNN)</i> - The KNN algorithm uses the training examples as a basis for computing similarity. For a data record t to be classified, its k nearest neighbors are retrieved, and this forms a neighborhood of t. Majority voting among the data records in the neighborhood is used to decide the classification for t.<br><br>\n",
    "- <i>Support Vector Machine (SVM)</i> - SVM is a discriminative classifier formally defined by a separating hyperplane. In other words, given labeled training data, the algorithm outputs an optimal hyperplane which categorizes new examples."
   ]
  },
  {
   "cell_type": "markdown",
   "metadata": {
    "collapsed": true
   },
   "source": [
    "Import required packages"
   ]
  },
  {
   "cell_type": "code",
   "execution_count": 518,
   "metadata": {
    "collapsed": true
   },
   "outputs": [],
   "source": [
    "from sklearn.neighbors import KNeighborsClassifier\n",
    "from sklearn.svm import SVC\n",
    "\n",
    "from sklearn import metrics\n",
    "from sklearn.metrics import confusion_matrix, classification_report, accuracy_score\n",
    "from sklearn.model_selection import cross_val_score\n",
    "from sklearn.model_selection import train_test_split\n",
    "import matplotlib.pyplot as plt\n",
    "import seaborn as sns"
   ]
  },
  {
   "cell_type": "markdown",
   "metadata": {},
   "source": [
    "Number of folds for cross-validation"
   ]
  },
  {
   "cell_type": "code",
   "execution_count": 447,
   "metadata": {
    "collapsed": true
   },
   "outputs": [],
   "source": [
    "cv_folds = 10"
   ]
  },
  {
   "cell_type": "markdown",
   "metadata": {},
   "source": [
    "  "
   ]
  },
  {
   "cell_type": "markdown",
   "metadata": {},
   "source": [
    "<b>1. KNN classification model </b>"
   ]
  },
  {
   "cell_type": "code",
   "execution_count": 621,
   "metadata": {
    "scrolled": false
   },
   "outputs": [
    {
     "name": "stdout",
     "output_type": "stream",
     "text": [
      "Cross Validation Score:  [ 0.94        0.95        0.94        0.97979798  0.98989899  0.95959596\n",
      "  0.93814433  0.97938144  0.96907216  0.96907216]\n",
      "Averavge accuracy :  0.961496303239\n"
     ]
    }
   ],
   "source": [
    "# Train KNN classification model\n",
    "clf_knn = KNeighborsClassifier(n_neighbors=3)\n",
    "\n",
    "# Cross-validation on the model\n",
    "score_knn = cross_val_score(clf_knn, X_train, y_train, cv=cv_folds)\n",
    "\n",
    "print(\"Cross Validation Score: \", score_knn)\n",
    "print(\"Averavge accuracy : \", sum(score_knn)/cv_folds)\n"
   ]
  },
  {
   "cell_type": "markdown",
   "metadata": {},
   "source": [
    "  "
   ]
  },
  {
   "cell_type": "markdown",
   "metadata": {},
   "source": [
    "Perform <b>GridSearch</b> to find out the best <i>hyper-parameters</i> for KNN"
   ]
  },
  {
   "cell_type": "code",
   "execution_count": 356,
   "metadata": {
    "scrolled": false
   },
   "outputs": [
    {
     "name": "stdout",
     "output_type": "stream",
     "text": [
      "Fitting 5 folds for each of 11 candidates, totalling 55 fits\n",
      "[CV] n_neighbors=3 ...................................................\n",
      "[CV] .......... n_neighbors=3, score=0.9396984924623115, total=   1.6s\n",
      "[CV] n_neighbors=3 ...................................................\n"
     ]
    },
    {
     "name": "stderr",
     "output_type": "stream",
     "text": [
      "[Parallel(n_jobs=1)]: Done   1 out of   1 | elapsed:    7.9s remaining:    0.0s\n"
     ]
    },
    {
     "name": "stdout",
     "output_type": "stream",
     "text": [
      "[CV] .......... n_neighbors=3, score=0.9543147208121827, total=   1.7s\n",
      "[CV] n_neighbors=3 ...................................................\n"
     ]
    },
    {
     "name": "stderr",
     "output_type": "stream",
     "text": [
      "[Parallel(n_jobs=1)]: Done   2 out of   2 | elapsed:   15.9s remaining:    0.0s\n"
     ]
    },
    {
     "name": "stdout",
     "output_type": "stream",
     "text": [
      "[CV] .......... n_neighbors=3, score=0.9746192893401016, total=   1.7s\n",
      "[CV] n_neighbors=3 ...................................................\n",
      "[CV] .......... n_neighbors=3, score=0.9591836734693877, total=   1.7s\n",
      "[CV] n_neighbors=3 ...................................................\n",
      "[CV] .......... n_neighbors=3, score=0.9642857142857143, total=   1.6s\n",
      "[CV] n_neighbors=5 ...................................................\n",
      "[CV] ........... n_neighbors=5, score=0.964824120603015, total=   1.7s\n",
      "[CV] n_neighbors=5 ...................................................\n",
      "[CV] .......... n_neighbors=5, score=0.9644670050761421, total=   1.6s\n",
      "[CV] n_neighbors=5 ...................................................\n",
      "[CV] .......... n_neighbors=5, score=0.9746192893401016, total=   1.6s\n",
      "[CV] n_neighbors=5 ...................................................\n",
      "[CV] .......... n_neighbors=5, score=0.9591836734693877, total=   1.6s\n",
      "[CV] n_neighbors=5 ...................................................\n",
      "[CV] .......... n_neighbors=5, score=0.9795918367346939, total=   1.6s\n",
      "[CV] n_neighbors=7 ...................................................\n",
      "[CV] .......... n_neighbors=7, score=0.9748743718592965, total=   1.7s\n",
      "[CV] n_neighbors=7 ...................................................\n",
      "[CV] .......... n_neighbors=7, score=0.9593908629441624, total=   1.9s\n",
      "[CV] n_neighbors=7 ...................................................\n",
      "[CV] .......... n_neighbors=7, score=0.9746192893401016, total=   2.0s\n",
      "[CV] n_neighbors=7 ...................................................\n",
      "[CV] .......... n_neighbors=7, score=0.9591836734693877, total=   1.7s\n",
      "[CV] n_neighbors=7 ...................................................\n",
      "[CV] .......... n_neighbors=7, score=0.9795918367346939, total=   1.7s\n",
      "[CV] n_neighbors=9 ...................................................\n",
      "[CV] ........... n_neighbors=9, score=0.964824120603015, total=   1.7s\n",
      "[CV] n_neighbors=9 ...................................................\n",
      "[CV] .......... n_neighbors=9, score=0.9695431472081218, total=   1.8s\n",
      "[CV] n_neighbors=9 ...................................................\n",
      "[CV] .......... n_neighbors=9, score=0.9746192893401016, total=   2.0s\n",
      "[CV] n_neighbors=9 ...................................................\n",
      "[CV] .......... n_neighbors=9, score=0.9642857142857143, total=   1.7s\n",
      "[CV] n_neighbors=9 ...................................................\n",
      "[CV] .......... n_neighbors=9, score=0.9744897959183674, total=   1.6s\n",
      "[CV] n_neighbors=11 ..................................................\n",
      "[CV] ......... n_neighbors=11, score=0.9698492462311558, total=   1.7s\n",
      "[CV] n_neighbors=11 ..................................................\n",
      "[CV] ......... n_neighbors=11, score=0.9746192893401016, total=   1.9s\n",
      "[CV] n_neighbors=11 ..................................................\n",
      "[CV] ......... n_neighbors=11, score=0.9746192893401016, total=   1.8s\n",
      "[CV] n_neighbors=11 ..................................................\n",
      "[CV] ......... n_neighbors=11, score=0.9642857142857143, total=   1.7s\n",
      "[CV] n_neighbors=11 ..................................................\n",
      "[CV] ......... n_neighbors=11, score=0.9642857142857143, total=   1.7s\n",
      "[CV] n_neighbors=13 ..................................................\n",
      "[CV] .......... n_neighbors=13, score=0.964824120603015, total=   1.8s\n",
      "[CV] n_neighbors=13 ..................................................\n",
      "[CV] ......... n_neighbors=13, score=0.9644670050761421, total=   2.0s\n",
      "[CV] n_neighbors=13 ..................................................\n",
      "[CV] ......... n_neighbors=13, score=0.9796954314720813, total=   2.2s\n",
      "[CV] n_neighbors=13 ..................................................\n",
      "[CV] ......... n_neighbors=13, score=0.9591836734693877, total=   1.9s\n",
      "[CV] n_neighbors=13 ..................................................\n",
      "[CV] ......... n_neighbors=13, score=0.9642857142857143, total=   1.9s\n",
      "[CV] n_neighbors=15 ..................................................\n",
      "[CV] ......... n_neighbors=15, score=0.9597989949748744, total=   1.9s\n",
      "[CV] n_neighbors=15 ..................................................\n",
      "[CV] ......... n_neighbors=15, score=0.9593908629441624, total=   1.8s\n",
      "[CV] n_neighbors=15 ..................................................\n",
      "[CV] ......... n_neighbors=15, score=0.9796954314720813, total=   2.0s\n",
      "[CV] n_neighbors=15 ..................................................\n",
      "[CV] ......... n_neighbors=15, score=0.9642857142857143, total=   1.8s\n",
      "[CV] n_neighbors=15 ..................................................\n",
      "[CV] ......... n_neighbors=15, score=0.9642857142857143, total=   1.8s\n",
      "[CV] n_neighbors=17 ..................................................\n",
      "[CV] ......... n_neighbors=17, score=0.9597989949748744, total=   1.8s\n",
      "[CV] n_neighbors=17 ..................................................\n",
      "[CV] ......... n_neighbors=17, score=0.9644670050761421, total=   2.2s\n",
      "[CV] n_neighbors=17 ..................................................\n",
      "[CV] ......... n_neighbors=17, score=0.9847715736040609, total=   2.0s\n",
      "[CV] n_neighbors=17 ..................................................\n",
      "[CV] ......... n_neighbors=17, score=0.9591836734693877, total=   1.9s\n",
      "[CV] n_neighbors=17 ..................................................\n",
      "[CV] ......... n_neighbors=17, score=0.9642857142857143, total=   2.0s\n",
      "[CV] n_neighbors=19 ..................................................\n",
      "[CV] ......... n_neighbors=19, score=0.9597989949748744, total=   1.9s\n",
      "[CV] n_neighbors=19 ..................................................\n",
      "[CV] ......... n_neighbors=19, score=0.9543147208121827, total=   1.9s\n",
      "[CV] n_neighbors=19 ..................................................\n",
      "[CV] ......... n_neighbors=19, score=0.9796954314720813, total=   2.0s\n",
      "[CV] n_neighbors=19 ..................................................\n",
      "[CV] ......... n_neighbors=19, score=0.9642857142857143, total=   1.9s\n",
      "[CV] n_neighbors=19 ..................................................\n",
      "[CV] ......... n_neighbors=19, score=0.9642857142857143, total=   2.1s\n",
      "[CV] n_neighbors=21 ..................................................\n",
      "[CV] ......... n_neighbors=21, score=0.9547738693467337, total=   2.0s\n",
      "[CV] n_neighbors=21 ..................................................\n",
      "[CV] ......... n_neighbors=21, score=0.9593908629441624, total=   1.8s\n",
      "[CV] n_neighbors=21 ..................................................\n",
      "[CV] ......... n_neighbors=21, score=0.9847715736040609, total=   1.8s\n",
      "[CV] n_neighbors=21 ..................................................\n",
      "[CV] ......... n_neighbors=21, score=0.9744897959183674, total=   1.8s\n",
      "[CV] n_neighbors=21 ..................................................\n",
      "[CV] ......... n_neighbors=21, score=0.9591836734693877, total=   1.8s\n",
      "[CV] n_neighbors=23 ..................................................\n",
      "[CV] ......... n_neighbors=23, score=0.9547738693467337, total=   1.7s\n",
      "[CV] n_neighbors=23 ..................................................\n",
      "[CV] ......... n_neighbors=23, score=0.9543147208121827, total=   1.7s\n",
      "[CV] n_neighbors=23 ..................................................\n",
      "[CV] ......... n_neighbors=23, score=0.9796954314720813, total=   1.8s\n",
      "[CV] n_neighbors=23 ..................................................\n",
      "[CV] ......... n_neighbors=23, score=0.9744897959183674, total=   2.1s\n",
      "[CV] n_neighbors=23 ..................................................\n",
      "[CV] ......... n_neighbors=23, score=0.9642857142857143, total=   1.9s\n"
     ]
    },
    {
     "name": "stderr",
     "output_type": "stream",
     "text": [
      "[Parallel(n_jobs=1)]: Done  55 out of  55 | elapsed:  7.9min finished\n"
     ]
    },
    {
     "data": {
      "text/plain": [
       "GridSearchCV(cv=5, error_score='raise',\n",
       "       estimator=KNeighborsClassifier(algorithm='auto', leaf_size=30, metric='minkowski',\n",
       "           metric_params=None, n_jobs=1, n_neighbors=5, p=2,\n",
       "           weights='uniform'),\n",
       "       fit_params=None, iid=True, n_jobs=1,\n",
       "       param_grid=[{'n_neighbors': [3, 5, 7, 9, 11, 13, 15, 17, 19, 21, 23]}],\n",
       "       pre_dispatch='2*n_jobs', refit=True, return_train_score='warn',\n",
       "       scoring=None, verbose=3)"
      ]
     },
     "execution_count": 356,
     "metadata": {},
     "output_type": "execute_result"
    }
   ],
   "source": [
    "from sklearn.model_selection import GridSearchCV\n",
    "\n",
    "param_grid = [{'n_neighbors' : list(range(3, 24, 2))}] # Check for all odd possible values for nearest neighbour from 3 to 23\n",
    "\n",
    "# Perform Grid Search\n",
    "best_param_knn = GridSearchCV(KNeighborsClassifier(), param_grid, cv=5, verbose = 3)\n",
    "best_param_knn.fit(X_train,y_train)"
   ]
  },
  {
   "cell_type": "markdown",
   "metadata": {},
   "source": [
    "Find the best parameter"
   ]
  },
  {
   "cell_type": "code",
   "execution_count": 357,
   "metadata": {},
   "outputs": [
    {
     "name": "stdout",
     "output_type": "stream",
     "text": [
      "Best parameters set:  {'n_neighbors': 7}\n",
      "Best score: 0.969543147208\n"
     ]
    }
   ],
   "source": [
    "print(\"Best parameters set: \", best_param_knn.best_params_)\n",
    "print(\"Best score:\", best_param_knn.best_score_)"
   ]
  },
  {
   "cell_type": "markdown",
   "metadata": {},
   "source": [
    "  "
   ]
  },
  {
   "cell_type": "markdown",
   "metadata": {},
   "source": [
    "It is clear that KNN has performed better with n_neighbors=7.<br>\n",
    "Now do a cross-validation with best hyper-parameter, i.e., n_neighbors=7"
   ]
  },
  {
   "cell_type": "code",
   "execution_count": 622,
   "metadata": {},
   "outputs": [
    {
     "name": "stdout",
     "output_type": "stream",
     "text": [
      "Cross Validation Score:  [ 0.97        0.96        0.93        0.97979798  0.97979798  0.95959596\n",
      "  0.94845361  0.97938144  0.97938144  0.97938144]\n",
      "Averavge accuracy :  0.966578985734\n"
     ]
    }
   ],
   "source": [
    "tuned_knn = KNeighborsClassifier(n_neighbors=7)\n",
    "tuned_knn.fit(X_train, y_train) # Fit the tuned KNN model\n",
    "\n",
    "# Evaluate on the model\n",
    "score_tuned_knn = cross_val_score(tuned_knn, X_train, y_train, cv=cv_folds)\n",
    "\n",
    "print(\"Cross Validation Score: \", score_tuned_knn)\n",
    "print(\"Averavge accuracy : \", sum(score_tuned_knn)/cv_folds)"
   ]
  },
  {
   "cell_type": "markdown",
   "metadata": {},
   "source": [
    "  "
   ]
  },
  {
   "cell_type": "markdown",
   "metadata": {
    "collapsed": true
   },
   "source": [
    "<b>2. SVM Model classification</b>"
   ]
  },
  {
   "cell_type": "code",
   "execution_count": 623,
   "metadata": {},
   "outputs": [
    {
     "name": "stdout",
     "output_type": "stream",
     "text": [
      "Cross Validation Score :  [ 0.95        0.98        0.96        0.97979798  0.96969697  0.98989899\n",
      "  0.97938144  0.98969072  1.          0.96907216]\n",
      "Averavge accuracy :  0.976753826929\n"
     ]
    }
   ],
   "source": [
    "clf_svc = SVC(C=1, gamma=0.1, kernel='rbf')\n",
    "\n",
    "score_svc = cross_val_score(clf_svc, X_train, y_train, cv=cv_folds)\n",
    "\n",
    "print(\"Cross Validation Score : \", score_svc)\n",
    "print(\"Averavge accuracy : \", sum(score_svc)/cv_folds)"
   ]
  },
  {
   "cell_type": "markdown",
   "metadata": {},
   "source": [
    "  "
   ]
  },
  {
   "cell_type": "markdown",
   "metadata": {},
   "source": [
    "Let's perform <b>GridSearch</b> to find out the best <i>hyper-parameters</i> for SVM"
   ]
  },
  {
   "cell_type": "code",
   "execution_count": 364,
   "metadata": {
    "scrolled": false
   },
   "outputs": [
    {
     "name": "stdout",
     "output_type": "stream",
     "text": [
      "Fitting 5 folds for each of 12 candidates, totalling 60 fits\n",
      "[CV] C=1, gamma=0.1, kernel=linear ...................................\n",
      "[CV]  C=1, gamma=0.1, kernel=linear, score=0.9899497487437185, total=   6.2s\n",
      "[CV] C=1, gamma=0.1, kernel=linear ...................................\n"
     ]
    },
    {
     "name": "stderr",
     "output_type": "stream",
     "text": [
      "[Parallel(n_jobs=1)]: Done   1 out of   1 | elapsed:    9.6s remaining:    0.0s\n"
     ]
    },
    {
     "name": "stdout",
     "output_type": "stream",
     "text": [
      "[CV]  C=1, gamma=0.1, kernel=linear, score=0.9847715736040609, total=   6.7s\n",
      "[CV] C=1, gamma=0.1, kernel=linear ...................................\n"
     ]
    },
    {
     "name": "stderr",
     "output_type": "stream",
     "text": [
      "[Parallel(n_jobs=1)]: Done   2 out of   2 | elapsed:   20.1s remaining:    0.0s\n"
     ]
    },
    {
     "name": "stdout",
     "output_type": "stream",
     "text": [
      "[CV]  C=1, gamma=0.1, kernel=linear, score=0.9949238578680203, total=   6.8s\n",
      "[CV] C=1, gamma=0.1, kernel=linear ...................................\n",
      "[CV]  C=1, gamma=0.1, kernel=linear, score=0.9846938775510204, total=   7.0s\n",
      "[CV] C=1, gamma=0.1, kernel=linear ...................................\n",
      "[CV]  C=1, gamma=0.1, kernel=linear, score=0.9795918367346939, total=   7.2s\n",
      "[CV] C=1, gamma=0.1, kernel=rbf ......................................\n",
      "[CV]  C=1, gamma=0.1, kernel=rbf, score=0.964824120603015, total=   7.0s\n",
      "[CV] C=1, gamma=0.1, kernel=rbf ......................................\n",
      "[CV]  C=1, gamma=0.1, kernel=rbf, score=0.9695431472081218, total=   6.6s\n",
      "[CV] C=1, gamma=0.1, kernel=rbf ......................................\n",
      "[CV]  C=1, gamma=0.1, kernel=rbf, score=0.9746192893401016, total=   6.6s\n",
      "[CV] C=1, gamma=0.1, kernel=rbf ......................................\n",
      "[CV]  C=1, gamma=0.1, kernel=rbf, score=0.9846938775510204, total=   6.6s\n",
      "[CV] C=1, gamma=0.1, kernel=rbf ......................................\n",
      "[CV]  C=1, gamma=0.1, kernel=rbf, score=0.9642857142857143, total=   7.1s\n",
      "[CV] C=1, gamma=0.1, kernel=poly .....................................\n",
      "[CV]  C=1, gamma=0.1, kernel=poly, score=0.36180904522613067, total=   7.9s\n",
      "[CV] C=1, gamma=0.1, kernel=poly .....................................\n",
      "[CV]  C=1, gamma=0.1, kernel=poly, score=0.3604060913705584, total=   8.1s\n",
      "[CV] C=1, gamma=0.1, kernel=poly .....................................\n",
      "[CV]  C=1, gamma=0.1, kernel=poly, score=0.3604060913705584, total=   7.8s\n",
      "[CV] C=1, gamma=0.1, kernel=poly .....................................\n",
      "[CV]  C=1, gamma=0.1, kernel=poly, score=0.3622448979591837, total=   8.0s\n",
      "[CV] C=1, gamma=0.1, kernel=poly .....................................\n",
      "[CV]  C=1, gamma=0.1, kernel=poly, score=0.3622448979591837, total=   8.2s\n",
      "[CV] C=1, gamma=1, kernel=linear .....................................\n",
      "[CV]  C=1, gamma=1, kernel=linear, score=0.9899497487437185, total=   6.0s\n",
      "[CV] C=1, gamma=1, kernel=linear .....................................\n",
      "[CV]  C=1, gamma=1, kernel=linear, score=0.9847715736040609, total=   6.6s\n",
      "[CV] C=1, gamma=1, kernel=linear .....................................\n",
      "[CV]  C=1, gamma=1, kernel=linear, score=0.9949238578680203, total=   6.6s\n",
      "[CV] C=1, gamma=1, kernel=linear .....................................\n",
      "[CV]  C=1, gamma=1, kernel=linear, score=0.9846938775510204, total=   6.5s\n",
      "[CV] C=1, gamma=1, kernel=linear .....................................\n",
      "[CV]  C=1, gamma=1, kernel=linear, score=0.9795918367346939, total=   7.0s\n",
      "[CV] C=1, gamma=1, kernel=rbf ........................................\n",
      "[CV]  C=1, gamma=1, kernel=rbf, score=0.9849246231155779, total=   7.7s\n",
      "[CV] C=1, gamma=1, kernel=rbf ........................................\n",
      "[CV]  C=1, gamma=1, kernel=rbf, score=0.9847715736040609, total=   8.5s\n",
      "[CV] C=1, gamma=1, kernel=rbf ........................................\n",
      "[CV] .............. C=1, gamma=1, kernel=rbf, score=1.0, total=   8.4s\n",
      "[CV] C=1, gamma=1, kernel=rbf ........................................\n",
      "[CV]  C=1, gamma=1, kernel=rbf, score=0.9795918367346939, total=   8.3s\n",
      "[CV] C=1, gamma=1, kernel=rbf ........................................\n",
      "[CV]  C=1, gamma=1, kernel=rbf, score=0.9795918367346939, total=   8.1s\n",
      "[CV] C=1, gamma=1, kernel=poly .......................................\n",
      "[CV]  C=1, gamma=1, kernel=poly, score=0.8944723618090452, total=   8.6s\n",
      "[CV] C=1, gamma=1, kernel=poly .......................................\n",
      "[CV]  C=1, gamma=1, kernel=poly, score=0.883248730964467, total=   8.7s\n",
      "[CV] C=1, gamma=1, kernel=poly .......................................\n",
      "[CV]  C=1, gamma=1, kernel=poly, score=0.9035532994923858, total=   8.7s\n",
      "[CV] C=1, gamma=1, kernel=poly .......................................\n",
      "[CV]  C=1, gamma=1, kernel=poly, score=0.8928571428571429, total=   8.9s\n",
      "[CV] C=1, gamma=1, kernel=poly .......................................\n",
      "[CV]  C=1, gamma=1, kernel=poly, score=0.8724489795918368, total=   8.6s\n",
      "[CV] C=10, gamma=0.1, kernel=linear ..................................\n",
      "[CV]  C=10, gamma=0.1, kernel=linear, score=0.9849246231155779, total=   6.5s\n",
      "[CV] C=10, gamma=0.1, kernel=linear ..................................\n",
      "[CV]  C=10, gamma=0.1, kernel=linear, score=0.9847715736040609, total=   6.5s\n",
      "[CV] C=10, gamma=0.1, kernel=linear ..................................\n",
      "[CV]  C=10, gamma=0.1, kernel=linear, score=0.9949238578680203, total=   6.9s\n",
      "[CV] C=10, gamma=0.1, kernel=linear ..................................\n",
      "[CV]  C=10, gamma=0.1, kernel=linear, score=0.9846938775510204, total=   6.8s\n",
      "[CV] C=10, gamma=0.1, kernel=linear ..................................\n",
      "[CV]  C=10, gamma=0.1, kernel=linear, score=0.9795918367346939, total=   6.9s\n",
      "[CV] C=10, gamma=0.1, kernel=rbf .....................................\n",
      "[CV]  C=10, gamma=0.1, kernel=rbf, score=0.9899497487437185, total=   6.8s\n",
      "[CV] C=10, gamma=0.1, kernel=rbf .....................................\n",
      "[CV]  C=10, gamma=0.1, kernel=rbf, score=0.9847715736040609, total=   7.4s\n",
      "[CV] C=10, gamma=0.1, kernel=rbf .....................................\n",
      "[CV]  C=10, gamma=0.1, kernel=rbf, score=0.9949238578680203, total=   6.8s\n",
      "[CV] C=10, gamma=0.1, kernel=rbf .....................................\n",
      "[CV]  C=10, gamma=0.1, kernel=rbf, score=0.9846938775510204, total=   6.9s\n",
      "[CV] C=10, gamma=0.1, kernel=rbf .....................................\n",
      "[CV]  C=10, gamma=0.1, kernel=rbf, score=0.9795918367346939, total=   7.1s\n",
      "[CV] C=10, gamma=0.1, kernel=poly ....................................\n",
      "[CV]  C=10, gamma=0.1, kernel=poly, score=0.36180904522613067, total=   7.9s\n",
      "[CV] C=10, gamma=0.1, kernel=poly ....................................\n",
      "[CV]  C=10, gamma=0.1, kernel=poly, score=0.3604060913705584, total=   8.1s\n",
      "[CV] C=10, gamma=0.1, kernel=poly ....................................\n",
      "[CV]  C=10, gamma=0.1, kernel=poly, score=0.3604060913705584, total=   8.2s\n",
      "[CV] C=10, gamma=0.1, kernel=poly ....................................\n",
      "[CV]  C=10, gamma=0.1, kernel=poly, score=0.3622448979591837, total=   8.1s\n",
      "[CV] C=10, gamma=0.1, kernel=poly ....................................\n",
      "[CV]  C=10, gamma=0.1, kernel=poly, score=0.3622448979591837, total=   8.5s\n",
      "[CV] C=10, gamma=1, kernel=linear ....................................\n",
      "[CV]  C=10, gamma=1, kernel=linear, score=0.9849246231155779, total=   6.0s\n",
      "[CV] C=10, gamma=1, kernel=linear ....................................\n",
      "[CV]  C=10, gamma=1, kernel=linear, score=0.9847715736040609, total=   6.1s\n",
      "[CV] C=10, gamma=1, kernel=linear ....................................\n",
      "[CV]  C=10, gamma=1, kernel=linear, score=0.9949238578680203, total=   6.1s\n",
      "[CV] C=10, gamma=1, kernel=linear ....................................\n",
      "[CV]  C=10, gamma=1, kernel=linear, score=0.9846938775510204, total=   6.3s\n",
      "[CV] C=10, gamma=1, kernel=linear ....................................\n",
      "[CV]  C=10, gamma=1, kernel=linear, score=0.9795918367346939, total=   6.6s\n",
      "[CV] C=10, gamma=1, kernel=rbf .......................................\n",
      "[CV]  C=10, gamma=1, kernel=rbf, score=0.9849246231155779, total=   7.5s\n",
      "[CV] C=10, gamma=1, kernel=rbf .......................................\n",
      "[CV]  C=10, gamma=1, kernel=rbf, score=0.9847715736040609, total=   7.9s\n",
      "[CV] C=10, gamma=1, kernel=rbf .......................................\n",
      "[CV] ............. C=10, gamma=1, kernel=rbf, score=1.0, total=   7.5s\n",
      "[CV] C=10, gamma=1, kernel=rbf .......................................\n",
      "[CV]  C=10, gamma=1, kernel=rbf, score=0.9846938775510204, total=   7.4s\n",
      "[CV] C=10, gamma=1, kernel=rbf .......................................\n",
      "[CV]  C=10, gamma=1, kernel=rbf, score=0.9795918367346939, total=   7.4s\n",
      "[CV] C=10, gamma=1, kernel=poly ......................................\n",
      "[CV]  C=10, gamma=1, kernel=poly, score=0.8994974874371859, total=   7.4s\n",
      "[CV] C=10, gamma=1, kernel=poly ......................................\n",
      "[CV]  C=10, gamma=1, kernel=poly, score=0.8883248730964467, total=   7.5s\n",
      "[CV] C=10, gamma=1, kernel=poly ......................................\n",
      "[CV]  C=10, gamma=1, kernel=poly, score=0.9086294416243654, total=   7.5s\n",
      "[CV] C=10, gamma=1, kernel=poly ......................................\n",
      "[CV]  C=10, gamma=1, kernel=poly, score=0.9183673469387755, total=   7.5s\n",
      "[CV] C=10, gamma=1, kernel=poly ......................................\n"
     ]
    },
    {
     "name": "stdout",
     "output_type": "stream",
     "text": [
      "[CV]  C=10, gamma=1, kernel=poly, score=0.8775510204081632, total=   7.8s\n"
     ]
    },
    {
     "name": "stderr",
     "output_type": "stream",
     "text": [
      "[Parallel(n_jobs=1)]: Done  60 out of  60 | elapsed: 11.8min finished\n"
     ]
    },
    {
     "data": {
      "text/plain": [
       "GridSearchCV(cv=5, error_score='raise',\n",
       "       estimator=SVC(C=1.0, cache_size=200, class_weight=None, coef0=0.0,\n",
       "  decision_function_shape='ovr', degree=3, gamma='auto', kernel='rbf',\n",
       "  max_iter=-1, probability=False, random_state=None, shrinking=True,\n",
       "  tol=0.001, verbose=False),\n",
       "       fit_params=None, iid=True, n_jobs=1,\n",
       "       param_grid=[{'kernel': ('linear', 'rbf', 'poly'), 'C': [1, 10], 'gamma': [0.1, 1]}],\n",
       "       pre_dispatch='2*n_jobs', refit=True, return_train_score='warn',\n",
       "       scoring=None, verbose=3)"
      ]
     },
     "execution_count": 364,
     "metadata": {},
     "output_type": "execute_result"
    }
   ],
   "source": [
    "param_grid = [{'kernel': ('linear', 'rbf', 'poly'), \\\n",
    "               'C': [1, 10], 'gamma': [0.1, 1]\n",
    "              }]\n",
    "\n",
    "# Perform Grid Search\n",
    "best_param_svm = GridSearchCV(SVC(), param_grid, cv=cv_folds, verbose = 3)\n",
    "best_param_svm.fit(X_train,y_train)"
   ]
  },
  {
   "cell_type": "markdown",
   "metadata": {},
   "source": [
    "Find the best parameter set"
   ]
  },
  {
   "cell_type": "code",
   "execution_count": 365,
   "metadata": {},
   "outputs": [
    {
     "name": "stdout",
     "output_type": "stream",
     "text": [
      "Best parameters set:  {'C': 1, 'gamma': 0.1, 'kernel': 'linear'}\n",
      "Best score: 0.986802030457\n"
     ]
    }
   ],
   "source": [
    "print(\"Best parameters set: \", best_param_svm.best_params_)\n",
    "print(\"Best score:\", best_param_svm.best_score_)"
   ]
  },
  {
   "cell_type": "markdown",
   "metadata": {},
   "source": [
    "Tune the model with best hyper-parameter found."
   ]
  },
  {
   "cell_type": "code",
   "execution_count": 624,
   "metadata": {},
   "outputs": [
    {
     "name": "stdout",
     "output_type": "stream",
     "text": [
      "Cross Validation Score :  [ 0.97        0.99        0.97        0.98989899  0.98989899  1.\n",
      "  0.97938144  0.98969072  1.          0.96907216]\n",
      "Averavge accuracy :  0.984794230969\n"
     ]
    }
   ],
   "source": [
    "tuned_svm = SVC(C=1, gamma=0.1, kernel='linear')\n",
    "tuned_svm.fit(X_train, y_train)\n",
    "\n",
    "score_tuned_svm = cross_val_score(tuned_svm, X_train, y_train, cv=cv_folds)\n",
    "\n",
    "print(\"Cross Validation Score : \", score_tuned_svm)\n",
    "print(\"Averavge accuracy : \", sum(score_tuned_svm)/cv_folds)"
   ]
  },
  {
   "cell_type": "markdown",
   "metadata": {},
   "source": [
    "  "
   ]
  },
  {
   "cell_type": "markdown",
   "metadata": {},
   "source": [
    "### Task4. Predictions and Evaluation of two Models"
   ]
  },
  {
   "cell_type": "markdown",
   "metadata": {},
   "source": [
    "<b><i>Prediction and evaluation</i></b>"
   ]
  },
  {
   "cell_type": "markdown",
   "metadata": {},
   "source": [
    "Prediction, classification report and confusion matrix of tuned KNN Model on train set, valid set and test set"
   ]
  },
  {
   "cell_type": "code",
   "execution_count": 534,
   "metadata": {},
   "outputs": [
    {
     "name": "stdout",
     "output_type": "stream",
     "text": [
      "================== Training set =====================\n",
      "\n",
      "Accuracy: 0.972081218274\n",
      "\n",
      "             precision    recall  f1-score   support\n",
      "\n",
      "   business       0.97      0.96      0.96       272\n",
      "      sport       0.99      0.99      0.99       295\n",
      " technology       0.95      0.96      0.96       221\n",
      "\n",
      "avg / total       0.97      0.97      0.97       788\n",
      "\n",
      "================== Validation set ===================\n",
      "\n",
      "Accuracy: 0.984771573604\n",
      "\n",
      "             precision    recall  f1-score   support\n",
      "\n",
      "   business       1.00      0.98      0.99        81\n",
      "      sport       0.98      0.98      0.98        61\n",
      " technology       0.96      1.00      0.98        55\n",
      "\n",
      "avg / total       0.99      0.98      0.98       197\n",
      "\n",
      "================== Test set =========================\n",
      "\n",
      "Accuracy: 0.964539007092\n",
      "\n",
      "             precision    recall  f1-score   support\n",
      "\n",
      "   business       0.97      0.95      0.96       138\n",
      "      sport       0.98      0.96      0.97       170\n",
      " technology       0.94      0.98      0.96       115\n",
      "\n",
      "avg / total       0.96      0.96      0.96       423\n",
      "\n",
      "================== Confusion Matrix =================\n"
     ]
    },
    {
     "data": {
      "text/html": [
       "<div>\n",
       "<style>\n",
       "    .dataframe thead tr:only-child th {\n",
       "        text-align: right;\n",
       "    }\n",
       "\n",
       "    .dataframe thead th {\n",
       "        text-align: left;\n",
       "    }\n",
       "\n",
       "    .dataframe tbody tr th {\n",
       "        vertical-align: top;\n",
       "    }\n",
       "</style>\n",
       "<table border=\"1\" class=\"dataframe\">\n",
       "  <thead>\n",
       "    <tr style=\"text-align: right;\">\n",
       "      <th>Predicted</th>\n",
       "      <th>business</th>\n",
       "      <th>sport</th>\n",
       "      <th>technology</th>\n",
       "      <th>All</th>\n",
       "    </tr>\n",
       "    <tr>\n",
       "      <th>True</th>\n",
       "      <th></th>\n",
       "      <th></th>\n",
       "      <th></th>\n",
       "      <th></th>\n",
       "    </tr>\n",
       "  </thead>\n",
       "  <tbody>\n",
       "    <tr>\n",
       "      <th>business</th>\n",
       "      <td>131</td>\n",
       "      <td>2</td>\n",
       "      <td>5</td>\n",
       "      <td>138</td>\n",
       "    </tr>\n",
       "    <tr>\n",
       "      <th>sport</th>\n",
       "      <td>4</td>\n",
       "      <td>164</td>\n",
       "      <td>2</td>\n",
       "      <td>170</td>\n",
       "    </tr>\n",
       "    <tr>\n",
       "      <th>technology</th>\n",
       "      <td>0</td>\n",
       "      <td>2</td>\n",
       "      <td>113</td>\n",
       "      <td>115</td>\n",
       "    </tr>\n",
       "    <tr>\n",
       "      <th>All</th>\n",
       "      <td>135</td>\n",
       "      <td>168</td>\n",
       "      <td>120</td>\n",
       "      <td>423</td>\n",
       "    </tr>\n",
       "  </tbody>\n",
       "</table>\n",
       "</div>"
      ],
      "text/plain": [
       "Predicted   business  sport  technology  All\n",
       "True                                        \n",
       "business         131      2           5  138\n",
       "sport              4    164           2  170\n",
       "technology         0      2         113  115\n",
       "All              135    168         120  423"
      ]
     },
     "metadata": {},
     "output_type": "display_data"
    }
   ],
   "source": [
    "print(\"================== Training set =====================\\n\")\n",
    "pred_train = tuned_knn.predict(X_train_set) # Prediction on training set\n",
    "knn_train_acc = metrics.accuracy_score(y_train_set, pred_train) \n",
    "print(\"Accuracy: %s\" %knn_train_acc + \"\\n\")\n",
    "print(metrics.classification_report(y_train_set, pred_train))\n",
    "\n",
    "print(\"================== Validation set ===================\\n\")\n",
    "pred_valid = tuned_knn.predict(X_valid_set) # Prediction on validation set\n",
    "knn_valid_acc = metrics.accuracy_score(y_valid_set, pred_valid) \n",
    "print(\"Accuracy: %s\" %knn_valid_acc + \"\\n\")\n",
    "print(metrics.classification_report(y_valid_set, pred_valid))\n",
    "\n",
    "print(\"================== Test set =========================\\n\")\n",
    "pred_knn=tuned_knn.predict(X_test) # Prediction on test set\n",
    "acc_knn = metrics.accuracy_score(y_test, pred_test) \n",
    "print(\"Accuracy: %s\" %acc_test + \"\\n\")\n",
    "print(metrics.classification_report(y_test, pred_knn))\n",
    "\n",
    "print(\"================== Confusion Matrix =================\")\n",
    "display(pd.crosstab(y_test, pred_knn, rownames=['True'], colnames=['Predicted'], margins=True))"
   ]
  },
  {
   "cell_type": "markdown",
   "metadata": {},
   "source": [
    "  "
   ]
  },
  {
   "cell_type": "markdown",
   "metadata": {},
   "source": [
    "Confusion Matrix heatmap"
   ]
  },
  {
   "cell_type": "code",
   "execution_count": 612,
   "metadata": {},
   "outputs": [
    {
     "data": {
      "text/plain": [
       "<matplotlib.axes._subplots.AxesSubplot at 0x253618ea4a8>"
      ]
     },
     "execution_count": 612,
     "metadata": {},
     "output_type": "execute_result"
    },
    {
     "data": {
      "image/png": "[encoded data removed]",
      "text/plain": [
       "<matplotlib.figure.Figure at 0x253437b7748>"
      ]
     },
     "metadata": {},
     "output_type": "display_data"
    }
   ],
   "source": [
    "label_name = [\"technology\", \"business\", \"sport\"]\n",
    "\n",
    "knn_cm = confusion_matrix(y_test, pred_knn, labels=label_name)\n",
    "knn_cm_df = pd.DataFrame(knn_cm, label_name, label_name)\n",
    "\n",
    "plt.figure(figsize=(10, 8))\n",
    "\n",
    "sns.heatmap(knn_cm_df, annot=True, fmt=\"d\", annot_kws={\"size\": 10}, vmin=0, vmax=170, cmap=\"BuPu\")"
   ]
  },
  {
   "cell_type": "markdown",
   "metadata": {},
   "source": [
    "Above KNNs label classification heatmap shows which label has been classified to which label. For example, 'sport' label has been classified correctly 164 times to 'sport' label, 4 times has been incorreclty classified to 'business' label and 2 times incorrectly classified to 'technology' label."
   ]
  },
  {
   "cell_type": "markdown",
   "metadata": {},
   "source": [
    "  "
   ]
  },
  {
   "cell_type": "markdown",
   "metadata": {},
   "source": [
    "Prediction, classification report and confusion matrix of tuned SVM Model on train set, valid set and test set"
   ]
  },
  {
   "cell_type": "code",
   "execution_count": 541,
   "metadata": {},
   "outputs": [
    {
     "name": "stdout",
     "output_type": "stream",
     "text": [
      "================== Training set =====================\n",
      "\n",
      "Accuracy: 0.998730964467\n",
      "\n",
      "             precision    recall  f1-score   support\n",
      "\n",
      "   business       1.00      1.00      1.00       272\n",
      "      sport       1.00      1.00      1.00       295\n",
      " technology       1.00      1.00      1.00       221\n",
      "\n",
      "avg / total       1.00      1.00      1.00       788\n",
      "\n",
      "================== Validation set ===================\n",
      "\n",
      "Accuracy: 1.0\n",
      "\n",
      "             precision    recall  f1-score   support\n",
      "\n",
      "   business       1.00      1.00      1.00        81\n",
      "      sport       1.00      1.00      1.00        61\n",
      " technology       1.00      1.00      1.00        55\n",
      "\n",
      "avg / total       1.00      1.00      1.00       197\n",
      "\n",
      "================== Test set =========================\n",
      "\n",
      "Accuracy: 0.981087470449\n",
      "\n",
      "             precision    recall  f1-score   support\n",
      "\n",
      "   business       0.98      0.99      0.98       138\n",
      "      sport       0.98      0.98      0.98       170\n",
      " technology       0.98      0.97      0.98       115\n",
      "\n",
      "avg / total       0.98      0.98      0.98       423\n",
      "\n",
      "================== Confusion Matrix =================\n"
     ]
    },
    {
     "data": {
      "text/html": [
       "<div>\n",
       "<style>\n",
       "    .dataframe thead tr:only-child th {\n",
       "        text-align: right;\n",
       "    }\n",
       "\n",
       "    .dataframe thead th {\n",
       "        text-align: left;\n",
       "    }\n",
       "\n",
       "    .dataframe tbody tr th {\n",
       "        vertical-align: top;\n",
       "    }\n",
       "</style>\n",
       "<table border=\"1\" class=\"dataframe\">\n",
       "  <thead>\n",
       "    <tr style=\"text-align: right;\">\n",
       "      <th>Predicted</th>\n",
       "      <th>business</th>\n",
       "      <th>sport</th>\n",
       "      <th>technology</th>\n",
       "      <th>All</th>\n",
       "    </tr>\n",
       "    <tr>\n",
       "      <th>True</th>\n",
       "      <th></th>\n",
       "      <th></th>\n",
       "      <th></th>\n",
       "      <th></th>\n",
       "    </tr>\n",
       "  </thead>\n",
       "  <tbody>\n",
       "    <tr>\n",
       "      <th>business</th>\n",
       "      <td>136</td>\n",
       "      <td>0</td>\n",
       "      <td>2</td>\n",
       "      <td>138</td>\n",
       "    </tr>\n",
       "    <tr>\n",
       "      <th>sport</th>\n",
       "      <td>3</td>\n",
       "      <td>167</td>\n",
       "      <td>0</td>\n",
       "      <td>170</td>\n",
       "    </tr>\n",
       "    <tr>\n",
       "      <th>technology</th>\n",
       "      <td>0</td>\n",
       "      <td>3</td>\n",
       "      <td>112</td>\n",
       "      <td>115</td>\n",
       "    </tr>\n",
       "    <tr>\n",
       "      <th>All</th>\n",
       "      <td>139</td>\n",
       "      <td>170</td>\n",
       "      <td>114</td>\n",
       "      <td>423</td>\n",
       "    </tr>\n",
       "  </tbody>\n",
       "</table>\n",
       "</div>"
      ],
      "text/plain": [
       "Predicted   business  sport  technology  All\n",
       "True                                        \n",
       "business         136      0           2  138\n",
       "sport              3    167           0  170\n",
       "technology         0      3         112  115\n",
       "All              139    170         114  423"
      ]
     },
     "metadata": {},
     "output_type": "display_data"
    }
   ],
   "source": [
    "print(\"================== Training set =====================\\n\")\n",
    "pred_train = tuned_svm.predict(X_train_set) # Prediction on training set\n",
    "svm_train_acc = metrics.accuracy_score(y_train_set, pred_train) \n",
    "print(\"Accuracy: %s\" %svm_train_acc + \"\\n\")\n",
    "print(metrics.classification_report(y_train_set, pred_train))\n",
    "\n",
    "print(\"================== Validation set ===================\\n\")\n",
    "pred_valid = tuned_svm.predict(X_valid_set) # Prediction on validation set\n",
    "svm_valid_acc = metrics.accuracy_score(y_valid_set, pred_valid) \n",
    "print(\"Accuracy: %s\" %svm_valid_acc + \"\\n\")\n",
    "print(metrics.classification_report(y_valid_set, pred_valid))\n",
    "\n",
    "print(\"================== Test set =========================\\n\")\n",
    "pred_svm = tuned_svm.predict(X_test) # Prediction on test set\n",
    "acc_svm = metrics.accuracy_score(y_test, pred_svm) \n",
    "print(\"Accuracy: %s\" %acc_svm + \"\\n\")\n",
    "print(metrics.classification_report(y_test, pred_svm))\n",
    "\n",
    "print(\"================== Confusion Matrix =================\")\n",
    "display(pd.crosstab(y_test, pred_svm, rownames=['True'], colnames=['Predicted'], margins=True))"
   ]
  },
  {
   "cell_type": "markdown",
   "metadata": {},
   "source": [
    "  "
   ]
  },
  {
   "cell_type": "markdown",
   "metadata": {},
   "source": [
    "Confusion Matrix heatmap"
   ]
  },
  {
   "cell_type": "code",
   "execution_count": 609,
   "metadata": {},
   "outputs": [
    {
     "data": {
      "text/plain": [
       "<matplotlib.axes._subplots.AxesSubplot at 0x253432fb748>"
      ]
     },
     "execution_count": 609,
     "metadata": {},
     "output_type": "execute_result"
    },
    {
     "data": {
      "image/png": "[encoded data removed]",
      "text/plain": [
       "<matplotlib.figure.Figure at 0x2536e4f56d8>"
      ]
     },
     "metadata": {},
     "output_type": "display_data"
    }
   ],
   "source": [
    "svm_cm = confusion_matrix(y_test, pred_svm, labels=label_name)\n",
    "svm_cm_df = pd.DataFrame(svm_cm, label_name, label_name)\n",
    "\n",
    "plt.figure(figsize=(10, 8))\n",
    "\n",
    "sns.heatmap(svm_cm_df, annot=True, fmt=\"d\", annot_kws={\"size\": 10}, vmin=0, vmax=170, cmap=\"BuPu\")"
   ]
  },
  {
   "cell_type": "markdown",
   "metadata": {},
   "source": [
    "Above SVMs label classification heatmap shows which label has been classified to which label. For example, 'sport' label has been classified correctly 167 times to 'sport' label, 3 times has been classified to 'business' label and never classified to 'technology' label."
   ]
  },
  {
   "cell_type": "markdown",
   "metadata": {},
   "source": [
    "  "
   ]
  },
  {
   "cell_type": "markdown",
   "metadata": {},
   "source": [
    "<b><i>Accuracy comparison of two models</i></b>"
   ]
  },
  {
   "cell_type": "markdown",
   "metadata": {},
   "source": [
    "Comparison on test dataset"
   ]
  },
  {
   "cell_type": "code",
   "execution_count": 581,
   "metadata": {},
   "outputs": [
    {
     "data": {
      "image/png": "[encoded data removed]",
      "text/plain": [
       "<matplotlib.figure.Figure at 0x2537398cb38>"
      ]
     },
     "metadata": {},
     "output_type": "display_data"
    }
   ],
   "source": [
    "model_test_accuracy_comparisons = dict()\n",
    "\n",
    "# Comparison between KNN and SVM accuracies\n",
    "model_test_accuracy_comparisons[\"KNN\"] = acc_knn\n",
    "model_test_accuracy_comparisons[\"SVM\"] = acc_svm\n",
    "\n",
    "bar_width = 0.5\n",
    "\n",
    "plt.figure(figsize=(8, 6))\n",
    "\n",
    "# Plot the comparisons\n",
    "plt.ylim(0, 1.0)\n",
    "_ = plt.title(\"Accuracy Comparison of KNN and SVM on Test set\", fontweight='bold')\n",
    "_ = plt.bar(range(len(model_test_accuracy_comparisons)), list(model_test_accuracy_comparisons.values()), align='center', width=bar_width)\n",
    "_ = plt.xticks(range(len(model_test_accuracy_comparisons)), list(model_test_accuracy_comparisons.keys()))\n",
    "_ = plt.xlabel('Classification Models', fontweight='bold')\n",
    "_ = plt.ylabel('Accuracy', fontweight='bold')\n"
   ]
  },
  {
   "cell_type": "markdown",
   "metadata": {},
   "source": [
    "We can check how good a trained model is by testing the model on test data which is completely unseen by the model while learning. Above bar graph represents the accuracy of both models on test data. This bargraph clealy concludes that classification model of SVM has better accuracy in predicting the class lables on unseen data. "
   ]
  },
  {
   "cell_type": "markdown",
   "metadata": {},
   "source": [
    "  "
   ]
  },
  {
   "cell_type": "markdown",
   "metadata": {},
   "source": [
    "<b><i>Comparison of tuned KNN and tuned SVM based on Precision, Recall and F1-score</i></b>"
   ]
  },
  {
   "cell_type": "markdown",
   "metadata": {},
   "source": [
    "Calculating the accuracy of the model on test dataset is not enough. There are other classification measures that can be looked at as well to provide more insight about how accurate your model is. These classification measures are Precision, Recall and F1-score"
   ]
  },
  {
   "cell_type": "markdown",
   "metadata": {},
   "source": [
    "<b>Precision</b> can be termed as proportion of retrieved results that are relevant, whereas Recall can be termed as proportion of relevant results that are retrieved. Precision is the number of correct results divided by number of all returned results. Precision can be thought of as a measure of a classifiers exactness. A high precision can indicate a low number of False Positives.\n",
    "\n",
    "<b>Recall</b>, on the other hand, is the number of correct results divided by the number of results that should have been returned. Recall can be thought of as a measure of a classifiers completeness. A high recall indicates less False Negatives.\n",
    "\n",
    "<b>F-measure</b> is the measure of test’s accuracy. It conveys the balance between the precision and the recall (f1-measure). F1 score reaches its best value at 1 and worst at 0. "
   ]
  },
  {
   "cell_type": "markdown",
   "metadata": {},
   "source": [
    "To calculate Precison, Recall and F1-score separate, we can use Scikit-Learn libray"
   ]
  },
  {
   "cell_type": "code",
   "execution_count": 275,
   "metadata": {
    "collapsed": true
   },
   "outputs": [],
   "source": [
    "from sklearn.metrics import precision_score, recall_score, f1_score\n",
    "\n",
    "# Create two empty lists\n",
    "eval_score_knn = list()\n",
    "eval_score_svm = list()\n",
    "\n",
    "# Append precision, recall, f1-score of KNN to empty list\n",
    "eval_score_knn.append(precision_score(y_test, pred_knn, average='weighted'))\n",
    "eval_score_knn.append(recall_score(y_test, pred_knn, average='weighted'))\n",
    "eval_score_knn.append(f1_score(y_test, pred_knn, average='weighted'))\n",
    "\n",
    "# Append precision, recall, f1-score of SVM to empty list\n",
    "eval_score_svm.append(precision_score(y_test, pred_svm, average='weighted'))\n",
    "eval_score_svm.append(recall_score(y_test, pred_svm, average='weighted'))\n",
    "eval_score_svm.append(f1_score(y_test, pred_svm, average='weighted'))"
   ]
  },
  {
   "cell_type": "markdown",
   "metadata": {},
   "source": [
    "Plot the graph"
   ]
  },
  {
   "cell_type": "code",
   "execution_count": 490,
   "metadata": {},
   "outputs": [
    {
     "data": {
      "image/png": "[encoded data removed]",
      "text/plain": [
       "<matplotlib.figure.Figure at 0x2531903a588>"
      ]
     },
     "metadata": {},
     "output_type": "display_data"
    }
   ],
   "source": [
    "import matplotlib.pyplot as plt\n",
    "\n",
    "# Setting bar width\n",
    "bar_width = 0.25\n",
    "\n",
    "# Setting postions of bars on x-axis\n",
    "bar1 = np.arange(len(eval_score_knn))\n",
    "bar2 = [x + bar_width for x in bar1]\n",
    "\n",
    "plt.figure(figsize=(10, 8))\n",
    "\n",
    "# Plot\n",
    "plt.title(\"Comparison of evaluation parameters\", fontweight='bold', fontsize=14)\n",
    "plt.bar(bar1, eval_score_knn, color='#7f6d5f', width=bar_width, edgecolor='white', label='KNN')\n",
    "plt.bar(bar2, eval_score_svm, color='#557f2d', width=bar_width, edgecolor='white', label='SVM')\n",
    "\n",
    "# Add ylabel and xticks\n",
    "plt.ylabel('Evaluation Scores', fontweight='bold', fontsize=12)\n",
    "plt.xlabel('Performance Measures', fontweight='bold', fontsize=12)\n",
    "plt.xticks([i + 0.125 for i in range(len(eval_score_knn))], ['Precision', 'Recall', 'F1-Score'])\n",
    "\n",
    "plt.legend(bbox_to_anchor=(1, 1), loc=0)\n",
    "plt.show()"
   ]
  },
  {
   "cell_type": "markdown",
   "metadata": {},
   "source": [
    "From above barplot, we can conclude that SVM has better precision, recall and f1-score than KNN. High scores represent a good quality model. "
   ]
  },
  {
   "cell_type": "markdown",
   "metadata": {},
   "source": [
    "  "
   ]
  },
  {
   "cell_type": "markdown",
   "metadata": {},
   "source": [
    "<b><i>Comparison of Cross-Validation scores</i></b>"
   ]
  },
  {
   "cell_type": "markdown",
   "metadata": {},
   "source": [
    "One of the major problem of training a model is overfitting. Training a model with similar dataset builds a model to good at training set but may perform terrible on test dataset. The problem of overfitting can be reduced by doing a cross-validation of model on training dataset. Cross-validation invloves the concept of <u>K-fold cross validation</u>. K-Fold cross validation is an efficient method in training the model by taking a fraction of training dataset as a test set and check the learned model on that test set. This occurs for k times which eventually evaluate the whole training set and build a less overfitted model."
   ]
  },
  {
   "cell_type": "markdown",
   "metadata": {},
   "source": [
    "Thus, I have performed cross-validation before and after of tuning the model with best hyper-parameters. Cross-validation scores will be ideal to check if the models have improved."
   ]
  },
  {
   "cell_type": "markdown",
   "metadata": {},
   "source": [
    "Let's compare the cross-validation scores of KNN, Tuned KNN, SVM and Tuned SVM. Remember that the tuned classifiers are trained with best hyper-parameters of that particular classifiers."
   ]
  },
  {
   "cell_type": "code",
   "execution_count": 634,
   "metadata": {},
   "outputs": [
    {
     "data": {
      "image/png": "[encoded data removed]",
      "text/plain": [
       "<matplotlib.figure.Figure at 0x25343cdb2e8>"
      ]
     },
     "metadata": {},
     "output_type": "display_data"
    }
   ],
   "source": [
    "# Store all cross-validation score\n",
    "cross_val_data = [score_tuned_svm, score_svc, score_tuned_knn, score_knn]\n",
    "\n",
    "fig = plt.figure(1, figsize=(10, 10))\n",
    "\n",
    "# Create an axes instance\n",
    "ax = fig.add_subplot(111)\n",
    "\n",
    "# Create the boxplot\n",
    "bp = ax.boxplot(cross_val_data, patch_artist=True)\n",
    "\n",
    "ax.set_title(\"Comparison of Cross-Validation Scores\", fontweight='bold', fontsize=16)\n",
    "ax.set_ylabel(\"Scores\", fontweight='bold', fontsize=14)\n",
    "ax.set_xlabel(\"Classifiers\", fontweight='bold', fontsize=14)\n",
    "\n",
    "for box in bp['boxes']:\n",
    "    # change fill color\n",
    "    box.set(facecolor = '#1b9e77')\n",
    "\n",
    "ax.set_xticklabels(['Tuned SVM', 'SVM', 'Tuned KNN', 'KNN'])\n",
    "\n",
    "#Save the figure\n",
    "fig.savefig('fig1.png', bbox_inches='tight')"
   ]
  },
  {
   "cell_type": "markdown",
   "metadata": {},
   "source": [
    "From above boxplot, we can conclude that cross-validation results of both KNN and SVM before and after tuning the model with gridsearch, the accuracies have been increased. The distribution of accuracies for KNN after tuning has been reduced remarkably. Similarly, SVM also has shown slight improvement."
   ]
  },
  {
   "cell_type": "markdown",
   "metadata": {},
   "source": [
    "  "
   ]
  },
  {
   "cell_type": "markdown",
   "metadata": {},
   "source": [
    "There are other performance measures as well which can be taken into account to check if a model is performing well. These are True positive, False positive, False Negative and True Negative. "
   ]
  },
  {
   "cell_type": "markdown",
   "metadata": {},
   "source": [
    "<b>True Positive</b>: Correctly classifying a true class as true<br>\n",
    "<b>False Positive</b>: Incorrectly classifying a false class as true<br>\n",
    "<b>False Negative</b>: Incorrectly classifying a true class as false<br>\n",
    "<b>True Negative</b>: Correctly classifying a false class as false"
   ]
  },
  {
   "cell_type": "markdown",
   "metadata": {},
   "source": [
    "Lets check how KNN and SVM model have performed for these measures."
   ]
  },
  {
   "cell_type": "code",
   "execution_count": 648,
   "metadata": {},
   "outputs": [],
   "source": [
    "perf_measure_knn = list()\n",
    "perf_measure_svm = list()\n",
    "\n",
    "knn = 'knn'\n",
    "svm = 'svm'\n",
    "\n",
    "# Function to fetch TP, FP, FN, TN\n",
    "def print_confusion_matrix(mod, y_test, pred):\n",
    "    \n",
    "    cm = confusion_matrix(y_test, pred)\n",
    "    model = mod\n",
    "    \n",
    "    # Get KNN data\n",
    "    if model == 'knn':\n",
    "        perf_measure_knn.append(cm[0][0])\n",
    "        perf_measure_knn.append(cm[0][1])\n",
    "        perf_measure_knn.append(cm[1][0])\n",
    "        perf_measure_knn.append(cm[1][1])\n",
    "        \n",
    "    # Get SVM data\n",
    "    else:\n",
    "        perf_measure_svm.append(cm[0][0])\n",
    "        perf_measure_svm.append(cm[0][1])\n",
    "        perf_measure_svm.append(cm[1][0])\n",
    "        perf_measure_svm.append(cm[1][1])\n",
    "\n",
    "# Function call\n",
    "print_confusion_matrix(knn, y_test, pred_knn)\n",
    "print_confusion_matrix(svm, y_test, pred_svm)"
   ]
  },
  {
   "cell_type": "markdown",
   "metadata": {},
   "source": [
    "Plot the graph"
   ]
  },
  {
   "cell_type": "code",
   "execution_count": 644,
   "metadata": {},
   "outputs": [
    {
     "data": {
      "image/png": "[encoded data removed]",
      "text/plain": [
       "<matplotlib.figure.Figure at 0x25342492a58>"
      ]
     },
     "metadata": {},
     "output_type": "display_data"
    }
   ],
   "source": [
    "# Setting bar width\n",
    "bar_width = 0.25\n",
    "\n",
    "# Setting postions of bars on x-axis\n",
    "bar_knn = np.arange(len(perf_measure_knn))\n",
    "bar_svm = [x + bar_width for x in bar_knn]\n",
    "\n",
    "plt.figure(figsize=(12, 8))\n",
    "\n",
    "# Plot\n",
    "plt.title(\"Comparison of Performance Measures\", fontweight='bold', fontsize=16)\n",
    "plt.bar(bar_knn, perf_measure_knn, color='#C45951', width=bar_width, edgecolor='white', label='KNN')\n",
    "plt.bar(bar_svm, perf_measure_svm, color='#DED550', width=bar_width, edgecolor='white', label='SVM')\n",
    "\n",
    "# Add ylabel and xticks\n",
    "plt.ylabel('Evaluation Scores', fontweight='bold', fontsize=14)\n",
    "plt.xlabel('Performance Measures', fontweight='bold', fontsize=14)\n",
    "plt.xticks([i + 0.125 for i in range(len(perf_measure_knn))], ['True Positive', 'False Positive', 'False Negative', 'True Negative'])\n",
    "\n",
    "plt.legend(bbox_to_anchor=(1, 1), loc=0)\n",
    "plt.show()"
   ]
  },
  {
   "cell_type": "markdown",
   "metadata": {},
   "source": [
    "Above bar plot clearly shows that TP and TN are higher for SVM than KNN that means SVM has correctly classified a true calse as true and a false class as false more than KNN. Whereas KNN got higher FP and FN than SVM that means KNN has incorrectly classified a false class as true and a true class as false."
   ]
  },
  {
   "cell_type": "markdown",
   "metadata": {},
   "source": [
    "  "
   ]
  },
  {
   "cell_type": "markdown",
   "metadata": {},
   "source": [
    "## Conclusion:"
   ]
  },
  {
   "cell_type": "markdown",
   "metadata": {},
   "source": [
    "We trained two classification models - K-Nearest Neighbours(KNN) and Support Vector Machine(SVM) using pre-processed data and performed several evaluation experiments to verify which model has performed better on this dataset to identify correctly the labels.\n",
    "\n",
    "With the output of accuracies, cross-validation scores, precision, recall, f1-score and other performance measures, we can conclude the SVM has performed better than KNN and well suited for text classification.\n",
    "\n",
    "Text categorization tend to have high dimenstional feature space, few irrelevant features and sparse instance vectors.\n",
    "\n",
    "The experimental result shows that SVM consistently achieved good performance, outperforming KNN model significantly. This is because SVM has the ability to generalize well in high dimensional feature spaces, SVM eliminates the need of feature selection, making the application of text categorization considerably easier. On the other hand, KNN works better in low-dimensional feature space because in high dimensional feature space distance between examples(sparsity) get bigger and thus failed in correctly categorizing the new examples. Also, K-NN has the issue of finding the right value of 'k' and needs performance tuning which allows the model to take more time to build."
   ]
  }
 ],
 "metadata": {
  "kernelspec": {
   "display_name": "Python 3",
   "language": "python",
   "name": "python3"
  },
  "language_info": {
   "codemirror_mode": {
    "name": "ipython",
    "version": 3
   },
   "file_extension": ".py",
   "mimetype": "text/x-python",
   "name": "python",
   "nbconvert_exporter": "python",
   "pygments_lexer": "ipython3",
   "version": "3.6.3"
  }
 },
 "nbformat": 4,
 "nbformat_minor": 2
}
